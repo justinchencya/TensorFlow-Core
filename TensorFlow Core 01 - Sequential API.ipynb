{
 "cells": [
  {
   "cell_type": "markdown",
   "metadata": {},
   "source": [
    "# Setup"
   ]
  },
  {
   "cell_type": "code",
   "execution_count": 1,
   "metadata": {},
   "outputs": [],
   "source": [
    "import tensorflow as tf\n",
    "from tensorflow import keras\n",
    "from tensorflow.keras import layers"
   ]
  },
  {
   "cell_type": "markdown",
   "metadata": {},
   "source": [
    "# When to use a Sequential model\n",
    "- A `Sequential` model is appropriate for **a plain stack of layers** where each layer has **exactly one input tensor and one output tensor**.\n",
    "- A `Sequential` model is **not appropriate** when:\n",
    "    - The model has multiple inputs or outputs\n",
    "    - Any of the layers has multiple inputs or outputs\n",
    "    - You need to do layer sharing\n",
    "    - You want non-linear topology (e.g. a residual connection, a multi-brach model, etc.)"
   ]
  },
  {
   "cell_type": "markdown",
   "metadata": {},
   "source": [
    "# Creating a Sequential model\n",
    "- You can create a Sequential model by passing a list of layers to the `Sequential` constructor."
   ]
  },
  {
   "cell_type": "code",
   "execution_count": 2,
   "metadata": {},
   "outputs": [],
   "source": [
    "# Define a Sequential model with 3 layers\n",
    "model = keras.models.Sequential([\n",
    "    layers.Dense(2, activation='relu', name='layer1'),\n",
    "    layers.Dense(3, activation='relu', name='layer2'),\n",
    "    layers.Dense(4, name='layer3')\n",
    "])\n",
    "\n",
    "# Call model on a test input\n",
    "X = tf.ones((3,3))\n",
    "y = model(X)"
   ]
  },
  {
   "cell_type": "markdown",
   "metadata": {},
   "source": [
    "- You can also create a Sequential model incrementally vua the `add()` method."
   ]
  },
  {
   "cell_type": "code",
   "execution_count": 3,
   "metadata": {},
   "outputs": [],
   "source": [
    "model = keras.models.Sequential()\n",
    "model.add(layers.Dense(2, activation='relu', name='layer1'))\n",
    "model.add(layers.Dense(3, activation='relu', name='layer2'))\n",
    "model.add(layers.Dense(4, name='layer3'))"
   ]
  },
  {
   "cell_type": "markdown",
   "metadata": {},
   "source": [
    "- Note that there is also a corresponding `pop()` method to remove layers.\n",
    "    - A Sequential model behaves much like a list of layers."
   ]
  },
  {
   "cell_type": "code",
   "execution_count": 4,
   "metadata": {},
   "outputs": [
    {
     "data": {
      "text/plain": [
       "2"
      ]
     },
     "execution_count": 4,
     "metadata": {},
     "output_type": "execute_result"
    }
   ],
   "source": [
    "model.pop()\n",
    "len(model.layers)"
   ]
  },
  {
   "cell_type": "markdown",
   "metadata": {},
   "source": [
    "# Specifying the input shape in advance\n",
    "- Generally, all layers in Keras need to know the shape of their inputs in order to be able to create their weights. \n",
    "- So when you create a layer like the following example, initially, it has no weights."
   ]
  },
  {
   "cell_type": "code",
   "execution_count": 5,
   "metadata": {},
   "outputs": [
    {
     "data": {
      "text/plain": [
       "[]"
      ]
     },
     "execution_count": 5,
     "metadata": {},
     "output_type": "execute_result"
    }
   ],
   "source": [
    "layer = layers.Dense(3)\n",
    "layer.weights"
   ]
  },
  {
   "cell_type": "markdown",
   "metadata": {},
   "source": [
    "- It creates its weights the first time it is called on an input, since the shape of the weights depends on the shape of the inputs."
   ]
  },
  {
   "cell_type": "code",
   "execution_count": 6,
   "metadata": {},
   "outputs": [
    {
     "data": {
      "text/plain": [
       "[<tf.Variable 'dense/kernel:0' shape=(4, 3) dtype=float32, numpy=\n",
       " array([[ 0.00261897,  0.5110556 , -0.46288446],\n",
       "        [ 0.73821807, -0.19643867, -0.41821212],\n",
       "        [-0.30663127,  0.6883552 ,  0.71600723],\n",
       "        [-0.7568406 , -0.63529146, -0.23348731]], dtype=float32)>,\n",
       " <tf.Variable 'dense/bias:0' shape=(3,) dtype=float32, numpy=array([0., 0., 0.], dtype=float32)>]"
      ]
     },
     "execution_count": 6,
     "metadata": {},
     "output_type": "execute_result"
    }
   ],
   "source": [
    "X = tf.ones((1, 4))\n",
    "y = layer(X)\n",
    "\n",
    "layer.weights"
   ]
  },
  {
   "cell_type": "markdown",
   "metadata": {},
   "source": [
    "- Naturally, this also applies to Sequential models. \n",
    "- When you instantiate a Sequential model without an input shape, it isn't \"built\". \n",
    "    - It has no weights (and calling `model.weights` results in an error stating just this). \n",
    "- The weights are created when the model first sees some input data."
   ]
  },
  {
   "cell_type": "code",
   "execution_count": 7,
   "metadata": {},
   "outputs": [],
   "source": [
    "model = keras.models.Sequential([\n",
    "    layers.Dense(2, activation='relu', name='layer1'),\n",
    "    layers.Dense(3, activation='relu', name='layer2'),\n",
    "    layers.Dense(4, name='layer3')\n",
    "])\n",
    "\n",
    "# model.weights # Error"
   ]
  },
  {
   "cell_type": "code",
   "execution_count": 8,
   "metadata": {},
   "outputs": [
    {
     "data": {
      "text/plain": [
       "[<tf.Variable 'sequential_2/layer1/kernel:0' shape=(4, 2) dtype=float32, numpy=\n",
       " array([[ 0.38013554, -0.42864633],\n",
       "        [ 0.9834528 , -0.88952327],\n",
       "        [-0.7725432 , -0.7129495 ],\n",
       "        [-0.12196326, -0.13263726]], dtype=float32)>,\n",
       " <tf.Variable 'sequential_2/layer1/bias:0' shape=(2,) dtype=float32, numpy=array([0., 0.], dtype=float32)>,\n",
       " <tf.Variable 'sequential_2/layer2/kernel:0' shape=(2, 3) dtype=float32, numpy=\n",
       " array([[ 0.651832  ,  0.58173454,  1.0706286 ],\n",
       "        [-1.0539346 ,  0.97077775, -0.04235601]], dtype=float32)>,\n",
       " <tf.Variable 'sequential_2/layer2/bias:0' shape=(3,) dtype=float32, numpy=array([0., 0., 0.], dtype=float32)>,\n",
       " <tf.Variable 'sequential_2/layer3/kernel:0' shape=(3, 4) dtype=float32, numpy=\n",
       " array([[ 0.38080168,  0.84868777,  0.21695173, -0.07043689],\n",
       "        [-0.69620883, -0.6199563 ,  0.3662989 , -0.7817523 ],\n",
       "        [ 0.13444877,  0.34853983,  0.3476026 ,  0.7173135 ]],\n",
       "       dtype=float32)>,\n",
       " <tf.Variable 'sequential_2/layer3/bias:0' shape=(4,) dtype=float32, numpy=array([0., 0., 0., 0.], dtype=float32)>]"
      ]
     },
     "execution_count": 8,
     "metadata": {},
     "output_type": "execute_result"
    }
   ],
   "source": [
    "X = tf.ones((1, 4))\n",
    "y = model(X)\n",
    "\n",
    "model.weights"
   ]
  },
  {
   "cell_type": "markdown",
   "metadata": {},
   "source": [
    "- Once a model is 'built', you can call its `summary()` method to display its contents."
   ]
  },
  {
   "cell_type": "code",
   "execution_count": 9,
   "metadata": {},
   "outputs": [
    {
     "name": "stdout",
     "output_type": "stream",
     "text": [
      "Model: \"sequential_2\"\n",
      "_________________________________________________________________\n",
      "Layer (type)                 Output Shape              Param #   \n",
      "=================================================================\n",
      "layer1 (Dense)               multiple                  10        \n",
      "_________________________________________________________________\n",
      "layer2 (Dense)               multiple                  9         \n",
      "_________________________________________________________________\n",
      "layer3 (Dense)               multiple                  16        \n",
      "=================================================================\n",
      "Total params: 35\n",
      "Trainable params: 35\n",
      "Non-trainable params: 0\n",
      "_________________________________________________________________\n"
     ]
    }
   ],
   "source": [
    "model.summary()"
   ]
  },
  {
   "cell_type": "markdown",
   "metadata": {},
   "source": [
    "- However, it can be very useful when building a Sequential model incrementally to be able to display the summary of the model so far, including the current output shape. \n",
    "- In this case, you should start your model by passing an **`Input` object** to your model, so that it knows its input shape from the start.\n",
    "    - Note that the `Input` object is not displayed as part of `model.layers`, since it's not a layer."
   ]
  },
  {
   "cell_type": "code",
   "execution_count": 10,
   "metadata": {},
   "outputs": [
    {
     "name": "stdout",
     "output_type": "stream",
     "text": [
      "Model: \"sequential_3\"\n",
      "_________________________________________________________________\n",
      "Layer (type)                 Output Shape              Param #   \n",
      "=================================================================\n",
      "dense_1 (Dense)              (None, 2)                 10        \n",
      "=================================================================\n",
      "Total params: 10\n",
      "Trainable params: 10\n",
      "Non-trainable params: 0\n",
      "_________________________________________________________________\n"
     ]
    }
   ],
   "source": [
    "model = keras.models.Sequential()\n",
    "model.add(layers.Input(shape=(4, )))\n",
    "model.add(layers.Dense(2, activation='relu'))\n",
    "\n",
    "model.summary()"
   ]
  },
  {
   "cell_type": "code",
   "execution_count": 11,
   "metadata": {},
   "outputs": [
    {
     "data": {
      "text/plain": [
       "[<tensorflow.python.keras.layers.core.Dense at 0x7f92a7e27190>]"
      ]
     },
     "execution_count": 11,
     "metadata": {},
     "output_type": "execute_result"
    }
   ],
   "source": [
    "model.layers"
   ]
  },
  {
   "cell_type": "markdown",
   "metadata": {},
   "source": [
    "- A simple alternative is to pass an **`input_shape` argument** to the first layer."
   ]
  },
  {
   "cell_type": "code",
   "execution_count": 12,
   "metadata": {},
   "outputs": [
    {
     "name": "stdout",
     "output_type": "stream",
     "text": [
      "Model: \"sequential_4\"\n",
      "_________________________________________________________________\n",
      "Layer (type)                 Output Shape              Param #   \n",
      "=================================================================\n",
      "dense_2 (Dense)              (None, 2)                 10        \n",
      "=================================================================\n",
      "Total params: 10\n",
      "Trainable params: 10\n",
      "Non-trainable params: 0\n",
      "_________________________________________________________________\n"
     ]
    }
   ],
   "source": [
    "model = keras.models.Sequential()\n",
    "model.add(layers.Dense(2, activation='relu', input_shape=(4,)))\n",
    "\n",
    "model.summary()"
   ]
  },
  {
   "cell_type": "markdown",
   "metadata": {},
   "source": [
    "- Models built with a predefined input shape like this always have weights (even before seeing any data) and always have a defined output shape.\n",
    "- In general, it's a **recommended best practice** to always **specify the input shape** of a Sequential model in advance if you know what it is."
   ]
  },
  {
   "cell_type": "markdown",
   "metadata": {},
   "source": [
    "# Feature extraction with a Sequential model\n",
    "- Once a Sequential model has been built, it behaves like a Functional API model. \n",
    "- This means that every layer has an input and output attribute. \n",
    "    - These attributes can be used to do neat things, like quickly creating a model that extracts the outputs of all intermediate layers in a Sequential model."
   ]
  },
  {
   "cell_type": "code",
   "execution_count": 13,
   "metadata": {},
   "outputs": [],
   "source": [
    "initial_model = keras.Sequential([\n",
    "    keras.layers.Input(shape=(250, 250, 3)),\n",
    "    layers.Conv2D(32, 5, strides=2, activation='relu'),\n",
    "    layers.Conv2D(32, 3, activation='relu'),\n",
    "    layers.Conv2D(32, 3, activation='relu')\n",
    "])"
   ]
  },
  {
   "cell_type": "code",
   "execution_count": 14,
   "metadata": {},
   "outputs": [],
   "source": [
    "feature_extractor = keras.models.Model(\n",
    "    inputs = initial_model.inputs,\n",
    "    outputs = [layer.output for layer in initial_model.layers]\n",
    ")"
   ]
  },
  {
   "cell_type": "code",
   "execution_count": 15,
   "metadata": {},
   "outputs": [],
   "source": [
    "# Call feature extractor on a test input\n",
    "X = tf.ones((1, 250, 250, 3))\n",
    "features = feature_extractor(X)"
   ]
  },
  {
   "cell_type": "markdown",
   "metadata": {},
   "source": [
    "- Here's a similar example that only extract features from one layer."
   ]
  },
  {
   "cell_type": "code",
   "execution_count": 16,
   "metadata": {},
   "outputs": [],
   "source": [
    "initial_model = keras.Sequential([\n",
    "    keras.layers.Input(shape=(250, 250, 3)),\n",
    "    layers.Conv2D(32, 5, strides=2, activation='relu'),\n",
    "    layers.Conv2D(32, 3, activation='relu', name='my_intermediate_layer'),\n",
    "    layers.Conv2D(32, 3, activation='relu')\n",
    "])"
   ]
  },
  {
   "cell_type": "code",
   "execution_count": 17,
   "metadata": {},
   "outputs": [],
   "source": [
    "feature_extractor = keras.models.Model(\n",
    "    inputs = initial_model.inputs,\n",
    "    outputs = initial_model.get_layer(name='my_intermediate_layer').output\n",
    ")"
   ]
  },
  {
   "cell_type": "code",
   "execution_count": 18,
   "metadata": {},
   "outputs": [],
   "source": [
    "# Call feature extractor on a test input\n",
    "X = tf.ones((1, 250, 250, 3))\n",
    "features = feature_extractor(X)"
   ]
  },
  {
   "cell_type": "markdown",
   "metadata": {},
   "source": [
    "# Transfer learning with a Sequential model\n",
    "- Transfer learning consists of **freezing the bottom layers** in a model and **only training the top layers**. \n",
    "- Here are two common transfer learning blueprint involving Sequential models.\n",
    "- First, let's say that you have a Sequential model, and you want to freeze all layers except the last one. \n",
    "    - In this case, you would simply iterate over `model.layers` and set `layer.trainable = False` on each layer, except the last one."
   ]
  },
  {
   "cell_type": "code",
   "execution_count": 19,
   "metadata": {},
   "outputs": [],
   "source": [
    "# model = keras.Sequential([\n",
    "#     keras.Input(shape=(784)),\n",
    "#     layers.Dense(32, activation='relu'),\n",
    "#     layers.Dense(32, activation='relu'),\n",
    "#     layers.Dense(32, activation='relu'),\n",
    "#     layers.Dense(10)\n",
    "# ])\n",
    "\n",
    "# Presumably you would want to first load pre-trained weights.\n",
    "# model.load_weights(...)\n",
    "\n",
    "# Freeze all layers except the last one.\n",
    "# for layer in model.layers[:-1]:\n",
    "#     layer.trainable = False\n",
    "\n",
    "# Recompile and train (this will only update the weights of the last layer).\n",
    "# model.compile(...)\n",
    "# model.fit(...)"
   ]
  },
  {
   "cell_type": "markdown",
   "metadata": {},
   "source": [
    "- Another common blueprint is to use a Sequential model to **stack a pre-trained model and some freshly initialized classification layers**."
   ]
  },
  {
   "cell_type": "code",
   "execution_count": 20,
   "metadata": {},
   "outputs": [],
   "source": [
    "# Load a convolutional base model with pre-trained weights\n",
    "base_model = keras.applications.Xception(\n",
    "    weights = 'imagenet',\n",
    "    include_top=False,\n",
    "    pooling='avg'\n",
    ")\n",
    "\n",
    "# Freeze the base model\n",
    "base_model.trainable = False\n",
    "\n",
    "# Use a Sequential model to add a trainable classifier on top\n",
    "model = keras.models.Sequential([\n",
    "    base_model,\n",
    "    layers.Dense(100)\n",
    "])\n",
    "\n",
    "# Compile & train\n",
    "# model.compile(...)\n",
    "# model.fit(...)"
   ]
  }
 ],
 "metadata": {
  "kernelspec": {
   "display_name": "Python 3",
   "language": "python",
   "name": "python3"
  },
  "language_info": {
   "codemirror_mode": {
    "name": "ipython",
    "version": 3
   },
   "file_extension": ".py",
   "mimetype": "text/x-python",
   "name": "python",
   "nbconvert_exporter": "python",
   "pygments_lexer": "ipython3",
   "version": "3.7.6"
  }
 },
 "nbformat": 4,
 "nbformat_minor": 4
}
