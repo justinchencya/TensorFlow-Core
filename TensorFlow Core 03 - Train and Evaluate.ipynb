{
 "cells": [
  {
   "cell_type": "markdown",
   "metadata": {},
   "source": [
    "# Setup"
   ]
  },
  {
   "cell_type": "code",
   "execution_count": 1,
   "metadata": {},
   "outputs": [],
   "source": [
    "import tensorflow as tf\n",
    "from tensorflow import keras\n",
    "from tensorflow.keras import layers"
   ]
  },
  {
   "cell_type": "markdown",
   "metadata": {},
   "source": [
    "# API overview: a first end-to-end example\n",
    "- When passing data to the built-in training loops of a model, you should either use **NumPy arrays** (if your data is small and fits in memory) or **`tf.data` Dataset objects**. \n",
    "- In the next few paragraphs, we'll use the MNIST dataset as NumPy arrays, in order to demonstrate how to use optimizers, losses, and metrics.\n",
    "- Let's consider the following model (here, we build in with the Functional API, but it could be a Sequential model or a subclassed model as well)."
   ]
  },
  {
   "cell_type": "code",
   "execution_count": 2,
   "metadata": {},
   "outputs": [],
   "source": [
    "inputs = keras.Input(shape=(784,), name='digits')\n",
    "X = layers.Dense(64, activation='relu', name='dense_1')(inputs)\n",
    "X = layers.Dense(64, activation='relu', name='dense_2')(X)\n",
    "outputs = layers.Dense(10, activation='relu', name='predictions')(X)\n",
    "\n",
    "model = keras.Model(inputs, outputs)"
   ]
  },
  {
   "cell_type": "markdown",
   "metadata": {},
   "source": [
    "- Here's what the typical end-to-end workflow looks like.\n",
    "    - Training\n",
    "    - Validation on a holdhout set generated from the original dataset\n",
    "    - Evaluation on the test data\n",
    "- We'll use the MNIST data for this example."
   ]
  },
  {
   "cell_type": "code",
   "execution_count": 3,
   "metadata": {},
   "outputs": [],
   "source": [
    "(X_train, y_train), (X_test, y_test) = keras.datasets.mnist.load_data()\n",
    "\n",
    "# Preprocess the data (these are NumPy arrays)\n",
    "X_train = X_train.reshape(60000, 784).astype(\"float32\") / 255\n",
    "X_test = X_test.reshape(10000, 784).astype(\"float32\") / 255\n",
    "\n",
    "y_train = y_train.astype(\"float32\")\n",
    "y_test = y_test.astype(\"float32\")\n",
    "\n",
    "# Reserve 10,000 samples for validation\n",
    "X_val = X_train[-10000:]\n",
    "y_val = y_train[-10000:]\n",
    "X_train = X_train[:-10000]\n",
    "y_train = y_train[:-10000]"
   ]
  },
  {
   "cell_type": "markdown",
   "metadata": {},
   "source": [
    "- We specify the training configuration: optimizer, loss, metrics."
   ]
  },
  {
   "cell_type": "code",
   "execution_count": 4,
   "metadata": {},
   "outputs": [],
   "source": [
    "model.compile(optimizer=keras.optimizers.RMSprop(),\n",
    "             loss=keras.losses.SparseCategoricalCrossentropy(),\n",
    "             metrics=[keras.metrics.SparseCategoricalAccuracy()])"
   ]
  },
  {
   "cell_type": "markdown",
   "metadata": {},
   "source": [
    "- We call `fit()` to train the model by slicing data into \"batches\" of size `batch_size` and repeatedly iterating over the entire dataset for a given number of `epochs`."
   ]
  },
  {
   "cell_type": "code",
   "execution_count": 5,
   "metadata": {},
   "outputs": [
    {
     "name": "stdout",
     "output_type": "stream",
     "text": [
      "Train on 50000 samples, validate on 10000 samples\n",
      "Epoch 1/2\n",
      "50000/50000 [==============================] - 5s 100us/sample - loss: 2.3799 - sparse_categorical_accuracy: 0.1103 - val_loss: 2.3026 - val_sparse_categorical_accuracy: 0.0991\n",
      "Epoch 2/2\n",
      "50000/50000 [==============================] - 4s 72us/sample - loss: 2.3026 - sparse_categorical_accuracy: 0.0986 - val_loss: 2.3026 - val_sparse_categorical_accuracy: 0.0991\n"
     ]
    }
   ],
   "source": [
    "history = model.fit(X_train, y_train, batch_size=64, epochs=2,\n",
    "                   validation_data=(X_val, y_val))"
   ]
  },
  {
   "cell_type": "code",
   "execution_count": 6,
   "metadata": {},
   "outputs": [
    {
     "data": {
      "text/plain": [
       "{'loss': [2.3798525534057617, 2.3025853633117674],\n",
       " 'sparse_categorical_accuracy': [0.11034, 0.09864],\n",
       " 'val_loss': [2.302585363006592, 2.302585363006592],\n",
       " 'val_sparse_categorical_accuracy': [0.0991, 0.0991]}"
      ]
     },
     "execution_count": 6,
     "metadata": {},
     "output_type": "execute_result"
    }
   ],
   "source": [
    "history.history"
   ]
  },
  {
   "cell_type": "markdown",
   "metadata": {},
   "source": [
    "- We evaluate the model on the test data via `evaluate()`."
   ]
  },
  {
   "cell_type": "code",
   "execution_count": 7,
   "metadata": {},
   "outputs": [
    {
     "data": {
      "text/plain": [
       "[2.302584886932373, 0.098]"
      ]
     },
     "execution_count": 7,
     "metadata": {},
     "output_type": "execute_result"
    }
   ],
   "source": [
    "model.evaluate(X_test, y_test, batch_size=128, verbose=0)"
   ]
  },
  {
   "cell_type": "code",
   "execution_count": 8,
   "metadata": {},
   "outputs": [
    {
     "data": {
      "text/plain": [
       "array([[-0., -0., -0., -0., -0., -0., -0., -0., -0., -0.],\n",
       "       [-0., -0., -0., -0., -0., -0., -0., -0., -0., -0.],\n",
       "       [-0., -0., -0., -0., -0., -0., -0., -0., -0., -0.]], dtype=float32)"
      ]
     },
     "execution_count": 8,
     "metadata": {},
     "output_type": "execute_result"
    }
   ],
   "source": [
    "model.predict(X_test[:3])"
   ]
  },
  {
   "cell_type": "markdown",
   "metadata": {},
   "source": [
    "# The `compile()` method: specifying a loss, metrics, and an optimizer\n",
    "- As seen above, to train a model with `fit()`, you need to specify a loss function, an optimizer, and optionally, some metrics to monitor.\n",
    "    - You pass these to the model as arguments to the compile() method.\n",
    "    - The metrics argument should be a list -- your model can have any number of metrics.\n",
    "- For later reuse, let's put our model definition and compile step in functions.\n",
    "    - We will call them several times across different examples in this guide."
   ]
  },
  {
   "cell_type": "code",
   "execution_count": 9,
   "metadata": {},
   "outputs": [],
   "source": [
    "def get_uncompiled_model():\n",
    "    inputs = keras.Input(shape=(784,), name=\"digits\")\n",
    "    X = layers.Dense(64, activation=\"relu\", name=\"dense_1\")(inputs)\n",
    "    X = layers.Dense(64, activation=\"relu\", name=\"dense_2\")(X)\n",
    "    outputs = layers.Dense(10, activation=\"softmax\", name=\"predictions\")(X)\n",
    "    model = keras.Model(inputs=inputs, outputs=outputs)\n",
    "    return model"
   ]
  },
  {
   "cell_type": "code",
   "execution_count": 10,
   "metadata": {},
   "outputs": [],
   "source": [
    "def get_compiled_model():\n",
    "    model = get_uncompiled_model()\n",
    "    model.compile(\n",
    "        optimizer=\"rmsprop\",\n",
    "        loss=\"sparse_categorical_crossentropy\",\n",
    "        metrics=[\"sparse_categorical_accuracy\"],\n",
    "    )\n",
    "    return model"
   ]
  },
  {
   "cell_type": "markdown",
   "metadata": {},
   "source": [
    "# Many build-in optimizers, losses, and metrics are available\n",
    "- In general, you won't have to create from scratch your own losses, metrics, or optimizers because most of what you need is likely already part of the Keras API.\n",
    "- Optimizers:\n",
    "    - `SGD()` (with or without momentum)\n",
    "    - `RMSprop()`\n",
    "    - `Adam()`\n",
    "    - etc.\n",
    "- Losses:\n",
    "    - `MeanSquaredError()`\n",
    "    - `KLDivergence()`\n",
    "    - `CosineSimilarity()`\n",
    "    - etc.\n",
    "- Metrics:\n",
    "    - `AUC()`\n",
    "    - `Precision()`\n",
    "    - `Recall()`\n",
    "    - etc."
   ]
  },
  {
   "cell_type": "markdown",
   "metadata": {},
   "source": [
    "# Custom losses\n",
    "- There are two ways to provide custom losses with Keras.\n",
    "- The first is to **create a function** that accepts inputs `y_true` and `y_pred`.\n",
    "    - The following example shows a loss function that computes the mean squared error between the real data and the predictions."
   ]
  },
  {
   "cell_type": "code",
   "execution_count": 11,
   "metadata": {},
   "outputs": [],
   "source": [
    "def custom_mean_squared_error(y_true, y_pred):\n",
    "    return tf.math.reduce_mean(tf.square(y_true - y_pred))"
   ]
  },
  {
   "cell_type": "code",
   "execution_count": 12,
   "metadata": {},
   "outputs": [],
   "source": [
    "model = get_uncompiled_model()\n",
    "model.compile(optimizer=keras.optimizers.Adam(), \n",
    "              loss=custom_mean_squared_error)"
   ]
  },
  {
   "cell_type": "code",
   "execution_count": 13,
   "metadata": {},
   "outputs": [],
   "source": [
    "# We need to one-hot encode the labels to use MSE\n",
    "# y_train_one_hot = tf.one_hot(y_train, depth=10)\n",
    "\n",
    "# model.fit(X_train, y_train_one_hot, batch_size=64, epochs=1)"
   ]
  },
  {
   "cell_type": "markdown",
   "metadata": {},
   "source": [
    "- If you need a loss function that takes in parameters beside `y_true` and `y_pred`, you can **subclass the `tf.keras.losses.Loss` class** and inplement the following two methods.\n",
    "    - **`__init__(self)`**: accept parameters to pass during the call of your loss function\n",
    "    - **`call(self, y_true, y_pred)`**: use the targets `y_true` and the model predictions `y_pred` to compute the model's loss.\n",
    "- Let's say you want to use mean squared error, but with an added term that will de-incentivize prediction values far from 0.5 (we assume that the categorical targets are one-hot encoded and take values between 0 and 1). \n",
    "    - This creates an incentive for the model not to be too confident, which may help reduce overfitting (we won't know if it works until we try!)."
   ]
  },
  {
   "cell_type": "code",
   "execution_count": 14,
   "metadata": {},
   "outputs": [],
   "source": [
    "class CustomMSE(keras.losses.Loss):\n",
    "    def __init__(self, regularization_factor=0.1, name='custom_mse'):\n",
    "        super().__init__(name=name)\n",
    "        self.regularization_factor = regularization_factor\n",
    "        \n",
    "    def call(self, y_true, y_pred):\n",
    "        mse = tf.math.reduce_mean(tf.square(y_true - y_pred))\n",
    "        reg = tf.math.reduce_mean(tf.square(0.5 - y_pred))\n",
    "        return mse + reg * self.regularization_factor"
   ]
  },
  {
   "cell_type": "code",
   "execution_count": 15,
   "metadata": {},
   "outputs": [],
   "source": [
    "model = get_uncompiled_model()\n",
    "model.compile(optimizer=keras.optimizers.Adam(),\n",
    "             loss=CustomMSE())"
   ]
  },
  {
   "cell_type": "code",
   "execution_count": 16,
   "metadata": {},
   "outputs": [],
   "source": [
    "# y_train_one_hot = tf.one_hot(y_train, depth=10)\n",
    "# model.fit(X_train, y_train_one_hot, batch_size=64, epochs=1)"
   ]
  },
  {
   "cell_type": "markdown",
   "metadata": {},
   "source": [
    "# Custom Metrics\n",
    "- If you need a metric that isn't part of the API, you can easily create custom metrics by **subclassing the `keras.metrics.Metric` class** and implement the following 4 methods.\n",
    "    - **`__init__(self)`**: create state variables for the metric\n",
    "    - **`update_state(self, y_true, y_pred, sample_weight=None)`**: use the targets `y_true` and the model prediction `y_pred` to update the state variables\n",
    "    - **`result(self)`**: use the state variables to compute the final results\n",
    "    - **`reset_states(self)`**: reinitializes the state of the metric\n",
    "- State update and results computation are kept separate (in `update_state()` and `result()`, respectively) because in some cases, results computation might be very expensive, and would only be done periodically.\n",
    "- Here's a simple example showing how to implement a `CategoricalTruePositives` metric, that counts how many samples were correctly classified as belonging to a given class."
   ]
  },
  {
   "cell_type": "code",
   "execution_count": 17,
   "metadata": {},
   "outputs": [],
   "source": [
    "class CategoricalTruePositives(keras.metrics.Metric):\n",
    "    def __init__(self, name='categorical_true_positives', **kwargs):\n",
    "        super().__init__(name=name, **kwargs)\n",
    "        self.true_positives = self.add_weight(name='ctp', initializer='zeros')\n",
    "        \n",
    "    def update_state(self, y_true, y_pred, sample_weight=None):\n",
    "        y_pred = tf.reshape(tf.argmax(y_pred, axis=1), shape=(-1, 1))\n",
    "        values = tf.cast(y_true, \"int32\") == tf.cast(y_pred, \"int32\")\n",
    "        values = tf.cast(values, \"float32\")\n",
    "        if sample_weight is not None:\n",
    "            sample_weight = tf.cast(sample_weight, \"float32\")\n",
    "            values = tf.multiply(values, sample_weight)\n",
    "        self.true_positives.assign_add(tf.reduce_sum(values))\n",
    "        \n",
    "    def result(self):\n",
    "        return self.true_positives\n",
    "    \n",
    "    def reset_states(self):\n",
    "        # The state of the metric will be reset at the start of each epoch\n",
    "        self.true_positives.assign(0.0)"
   ]
  },
  {
   "cell_type": "code",
   "execution_count": 18,
   "metadata": {},
   "outputs": [],
   "source": [
    "model = get_uncompiled_model()\n",
    "model.compile(optimizer=keras.optimizers.RMSprop(learning_rate=1e-3),\n",
    "              loss=keras.losses.SparseCategoricalCrossentropy(),\n",
    "              metrics=[CategoricalTruePositives()])"
   ]
  },
  {
   "cell_type": "code",
   "execution_count": 19,
   "metadata": {},
   "outputs": [
    {
     "name": "stdout",
     "output_type": "stream",
     "text": [
      "Train on 50000 samples\n",
      "Epoch 1/3\n",
      "50000/50000 [==============================] - 4s 79us/sample - loss: 0.3388 - categorical_true_positives: 45193.0000\n",
      "Epoch 2/3\n",
      "50000/50000 [==============================] - 4s 71us/sample - loss: 0.1509 - categorical_true_positives: 47743.0000\n",
      "Epoch 3/3\n",
      "50000/50000 [==============================] - 3s 69us/sample - loss: 0.1121 - categorical_true_positives: 48322.0000\n"
     ]
    },
    {
     "data": {
      "text/plain": [
       "<tensorflow.python.keras.callbacks.History at 0x7fe858ccec10>"
      ]
     },
     "execution_count": 19,
     "metadata": {},
     "output_type": "execute_result"
    }
   ],
   "source": [
    "model.fit(X_train, y_train, batch_size=64, epochs=3)"
   ]
  },
  {
   "cell_type": "markdown",
   "metadata": {},
   "source": [
    "# Handling losses and metrics that don't fit the standard signature\n",
    "- The overwhelming majority of losses and metrics can be computed from `y_true` and `y_pred`. \n",
    "- But not all of them. For instance, a regularization loss may only require the activation of a layer (there are no targets in this case), and this activation may not be a model output.\n",
    "- In such cases, you can call **`self.add_loss(loss_value)`** from inside the **`call` method** of a **custom layer**. \n",
    "    - Losses added in this way get added to the \"main\" loss during training (the one passed to `compile()`). \n",
    "- Here's a simple example that adds activity regularization (note that activity regularization is built-in in all Keras layers -- this layer is just for the sake of providing a concrete example)."
   ]
  },
  {
   "cell_type": "code",
   "execution_count": 20,
   "metadata": {},
   "outputs": [],
   "source": [
    "class ActivityRegularizationLayer(layers.Layer):\n",
    "    def call(self, inputs):\n",
    "        self.add_loss(tf.reduce_sum(inputs) * 0.1)\n",
    "        return inputs"
   ]
  },
  {
   "cell_type": "code",
   "execution_count": 21,
   "metadata": {},
   "outputs": [],
   "source": [
    "inputs = keras.Input(shape=(784,), name='digits')\n",
    "X = layers.Dense(64, activation='relu', name='dense_1')(inputs)\n",
    "\n",
    "# Insert activity regularization as a layer\n",
    "X = ActivityRegularizationLayer()(X)\n",
    "\n",
    "X = layers.Dense(64, activation='relu', name='dense_2')(X)\n",
    "outputs = layers.Dense(10, name='predictions')(X)"
   ]
  },
  {
   "cell_type": "code",
   "execution_count": 22,
   "metadata": {},
   "outputs": [],
   "source": [
    "model = keras.Model(inputs, outputs)"
   ]
  },
  {
   "cell_type": "code",
   "execution_count": 23,
   "metadata": {},
   "outputs": [],
   "source": [
    "model.compile(optimizer=keras.optimizers.RMSprop(1e-3),\n",
    "             loss=keras.losses.SparseCategoricalCrossentropy(from_logits=True))"
   ]
  },
  {
   "cell_type": "code",
   "execution_count": 24,
   "metadata": {},
   "outputs": [
    {
     "name": "stdout",
     "output_type": "stream",
     "text": [
      "Train on 50000 samples\n",
      "50000/50000 [==============================] - 4s 82us/sample - loss: 2.5131\n"
     ]
    },
    {
     "data": {
      "text/plain": [
       "<tensorflow.python.keras.callbacks.History at 0x7fe849323350>"
      ]
     },
     "execution_count": 24,
     "metadata": {},
     "output_type": "execute_result"
    }
   ],
   "source": [
    "model.fit(X_train, y_train, batch_size=64, epochs=1)"
   ]
  },
  {
   "cell_type": "markdown",
   "metadata": {},
   "source": [
    "- You can do the same for logging metric values, using **`add_metric()`**."
   ]
  },
  {
   "cell_type": "code",
   "execution_count": 25,
   "metadata": {},
   "outputs": [],
   "source": [
    "class MetricLoggingLayer(layers.Layer):\n",
    "    def call(self, inputs):\n",
    "        # The `aggregation` argument defines how to aggregate the per-batch values over each epoch\n",
    "        # In this example, we simply average them\n",
    "        \n",
    "        self.add_metric(\n",
    "            keras.backend.std(inputs),\n",
    "            name='std_of_activation',\n",
    "            aggregation='mean'\n",
    "        )\n",
    "        \n",
    "        return inputs"
   ]
  },
  {
   "cell_type": "code",
   "execution_count": 26,
   "metadata": {},
   "outputs": [],
   "source": [
    "inputs = keras.Input(shape=(784,), name='digits')\n",
    "X = layers.Dense(64, activation='relu', name='dense_1')(inputs)\n",
    "\n",
    "# Insert std logging as a layer\n",
    "X = MetricLoggingLayer()(X)\n",
    "\n",
    "X = layers.Dense(64, activation='relu', name='dense_2')(X)\n",
    "outputs = layers.Dense(10, name='predictions')(X)"
   ]
  },
  {
   "cell_type": "code",
   "execution_count": 27,
   "metadata": {},
   "outputs": [],
   "source": [
    "model = keras.Model(inputs, outputs)"
   ]
  },
  {
   "cell_type": "code",
   "execution_count": 28,
   "metadata": {},
   "outputs": [],
   "source": [
    "model.compile(optimizer=keras.optimizers.RMSprop(1e-3),\n",
    "             loss=keras.losses.SparseCategoricalCrossentropy(from_logits=True))"
   ]
  },
  {
   "cell_type": "code",
   "execution_count": 29,
   "metadata": {},
   "outputs": [
    {
     "name": "stdout",
     "output_type": "stream",
     "text": [
      "Train on 50000 samples\n",
      "50000/50000 [==============================] - 4s 81us/sample - loss: 0.3454 - std_of_activation: 1.0120\n"
     ]
    },
    {
     "data": {
      "text/plain": [
       "<tensorflow.python.keras.callbacks.History at 0x7fe868da2950>"
      ]
     },
     "execution_count": 29,
     "metadata": {},
     "output_type": "execute_result"
    }
   ],
   "source": [
    "model.fit(X_train, y_train, batch_size=64, epochs=1)"
   ]
  },
  {
   "cell_type": "markdown",
   "metadata": {},
   "source": [
    "- In the Functional API, you can also call **`model.add_loss(loss_tensor)`** or **`model.add_metric(metric_tensor, name, aggregation)`**."
   ]
  },
  {
   "cell_type": "code",
   "execution_count": 30,
   "metadata": {},
   "outputs": [
    {
     "name": "stdout",
     "output_type": "stream",
     "text": [
      "Train on 50000 samples\n",
      "50000/50000 [==============================] - 4s 90us/sample - loss: 2.4884 - std_of_activation: 0.0018\n"
     ]
    },
    {
     "data": {
      "text/plain": [
       "<tensorflow.python.keras.callbacks.History at 0x7fe869bc4c50>"
      ]
     },
     "execution_count": 30,
     "metadata": {},
     "output_type": "execute_result"
    }
   ],
   "source": [
    "inputs = keras.Input(shape=(784,), name='digits')\n",
    "\n",
    "X1 = layers.Dense(64, activation='relu', name='dense_1')(inputs)\n",
    "X2 = layers.Dense(64, activation='relu', name='dense_2')(X1)\n",
    "outputs = layers.Dense(10, name='predictions')(X2)\n",
    "\n",
    "model = keras.Model(inputs, outputs)\n",
    "\n",
    "model.add_loss(tf.reduce_sum(X1) * 0.1)\n",
    "\n",
    "model.add_metric(keras.backend.std(X1), name=\"std_of_activation\", aggregation='mean')   \n",
    "\n",
    "model.compile(\n",
    "    optimizer=keras.optimizers.RMSprop(1e-3),\n",
    "    loss=keras.losses.SparseCategoricalCrossentropy(from_logits=True)\n",
    ")\n",
    "\n",
    "model.fit(X_train, y_train, batch_size=64, epochs=1)"
   ]
  },
  {
   "cell_type": "markdown",
   "metadata": {},
   "source": [
    "- Note that when you pass losses via `add_loss()`, it becomes possible to call `compile()` without a loss function, since the model already has a loss to minimize.\n",
    "- Consider the following `LogisticEndpoint` layer.\n",
    "    - It takes inputs (logits) and targets and tracks crossentropy loss via `add_loss()`.\n",
    "    - It also tracks classification accuracy via `add_metric()`."
   ]
  },
  {
   "cell_type": "code",
   "execution_count": 31,
   "metadata": {},
   "outputs": [],
   "source": [
    "class LogisticEndpoint(keras.layers.Layer):\n",
    "    def __init__(self, name=None):\n",
    "        super().__init__(name=name)\n",
    "        self.loss_fn = keras.losses.BinaryCrossentropy(from_logits=True)\n",
    "        self.accuracy_fn = keras.metrics.BinaryAccuracy()\n",
    "\n",
    "    def call(self, targets, logits, sample_weights=None):\n",
    "        loss = self.loss_fn(targets, logits, sample_weights)\n",
    "        self.add_loss(loss)\n",
    "\n",
    "        acc = self.accuracy_fn(targets, logits, sample_weights)\n",
    "        self.add_metric(acc, name=\"accuracy\")\n",
    "\n",
    "        return tf.nn.softmax(logits)"
   ]
  },
  {
   "cell_type": "markdown",
   "metadata": {},
   "source": [
    "- Now, you can use it in a model with two inputs (input data and targets), compiled without a `loss` argument, like the following."
   ]
  },
  {
   "cell_type": "code",
   "execution_count": 32,
   "metadata": {},
   "outputs": [
    {
     "name": "stdout",
     "output_type": "stream",
     "text": [
      "WARNING:tensorflow:Output predictions missing from loss dictionary. We assume this was done on purpose. The fit and evaluate APIs will not be expecting any data to be passed to predictions.\n"
     ]
    }
   ],
   "source": [
    "import numpy as np\n",
    "\n",
    "inputs = keras.Input(shape=(3,), name=\"inputs\")\n",
    "targets = keras.Input(shape=(10,), name=\"targets\")\n",
    "logits = keras.layers.Dense(10)(inputs)\n",
    "predictions = LogisticEndpoint(name='predictions')(logits, targets)\n",
    "\n",
    "model = keras.Model(inputs=[inputs, targets], outputs=predictions)\n",
    "\n",
    "model.compile(optimizer='adam') # No loss argument"
   ]
  },
  {
   "cell_type": "code",
   "execution_count": 33,
   "metadata": {},
   "outputs": [],
   "source": [
    "data = {\"inputs\": np.random.random((3,3)), \n",
    "       \"targets\": np.random.random((3, 10))}"
   ]
  },
  {
   "cell_type": "code",
   "execution_count": 34,
   "metadata": {},
   "outputs": [
    {
     "name": "stdout",
     "output_type": "stream",
     "text": [
      "Train on 3 samples\n",
      "3/3 [==============================] - 1s 176ms/sample - loss: 1.0281 - binary_accuracy: 0.0000e+00\n"
     ]
    },
    {
     "data": {
      "text/plain": [
       "<tensorflow.python.keras.callbacks.History at 0x7fe829d51d10>"
      ]
     },
     "execution_count": 34,
     "metadata": {},
     "output_type": "execute_result"
    }
   ],
   "source": [
    "model.fit(data)"
   ]
  },
  {
   "cell_type": "markdown",
   "metadata": {},
   "source": [
    "# Automatically setting apart a validation holdout set\n",
    "- In the first end-to-end example you saw, we used the `validation_data` argument to pass a tuple of NumPy arrays `(x_val, y_val)` to the model for evaluating a validation loss and validation metrics at the end of each epoch.\n",
    "- Here's another option: the argument `validation_split` allows you to automatically reserve part of your training data for validation. \n",
    "    - The argument value represents the fraction of the data to be reserved for validation, so it should be set to a number higher than 0 and lower than 1. \n",
    "    - For instance, `validation_split=0.2` means \"use 20% of the data for validation\", and `validation_split=0.6` means \"use 60% of the data for validation\".\n",
    "- The way the validation is computed is by taking the last x% samples of the arrays received by the fit call, before any shuffling.\n",
    "- Note that you can only use `validation_split` when training with NumPy data."
   ]
  },
  {
   "cell_type": "code",
   "execution_count": 35,
   "metadata": {},
   "outputs": [
    {
     "name": "stdout",
     "output_type": "stream",
     "text": [
      "Train on 40000 samples, validate on 10000 samples\n",
      "40000/40000 [==============================] - 4s 90us/sample - loss: 0.3651 - sparse_categorical_accuracy: 0.8977 - val_loss: 0.2303 - val_sparse_categorical_accuracy: 0.9318\n"
     ]
    },
    {
     "data": {
      "text/plain": [
       "<tensorflow.python.keras.callbacks.History at 0x7fe82b0d8790>"
      ]
     },
     "execution_count": 35,
     "metadata": {},
     "output_type": "execute_result"
    }
   ],
   "source": [
    "model = get_compiled_model()\n",
    "\n",
    "model.fit(X_train, y_train, batch_size=64, validation_split=0.2, epochs=1)"
   ]
  },
  {
   "cell_type": "markdown",
   "metadata": {},
   "source": [
    "# Training & Evaluating from `tf.data` Datasets\n",
    "- The `tf.data` API is a set of utilities in TensorFlow 2.0 for loading and preprocessing data in a way that's fast and scalable.\n",
    "- For a complete guide about creating `Datasets`, see the tf.data documentation.\n",
    "- You can pass a Dataset instance directly to the methods `fit()`, `evaluate()`, and `predict()`."
   ]
  },
  {
   "cell_type": "code",
   "execution_count": 36,
   "metadata": {},
   "outputs": [],
   "source": [
    "model = get_compiled_model()"
   ]
  },
  {
   "cell_type": "code",
   "execution_count": 37,
   "metadata": {},
   "outputs": [],
   "source": [
    "# First, create a training Dataset instance\n",
    "train_dataset = tf.data.Dataset.from_tensor_slices((X_train, y_train))\n",
    "\n",
    "# Shuffle and slice the dataset\n",
    "train_dataset = train_dataset.shuffle(buffer_size=1024).batch(64)"
   ]
  },
  {
   "cell_type": "code",
   "execution_count": 38,
   "metadata": {},
   "outputs": [],
   "source": [
    "# Get a test dataset\n",
    "test_dataset = tf.data.Dataset.from_tensor_slices((X_test, y_test))\n",
    "test_dataset = test_dataset.batch(64)"
   ]
  },
  {
   "cell_type": "code",
   "execution_count": 39,
   "metadata": {},
   "outputs": [
    {
     "name": "stdout",
     "output_type": "stream",
     "text": [
      "Epoch 1/3\n",
      "782/782 [==============================] - 7s 8ms/step - loss: 0.3296 - sparse_categorical_accuracy: 0.9062\n",
      "Epoch 2/3\n",
      "782/782 [==============================] - 5s 6ms/step - loss: 0.1530 - sparse_categorical_accuracy: 0.9547\n",
      "Epoch 3/3\n",
      "782/782 [==============================] - 5s 6ms/step - loss: 0.1129 - sparse_categorical_accuracy: 0.9664\n"
     ]
    },
    {
     "data": {
      "text/plain": [
       "<tensorflow.python.keras.callbacks.History at 0x7fe82bf91ed0>"
      ]
     },
     "execution_count": 39,
     "metadata": {},
     "output_type": "execute_result"
    }
   ],
   "source": [
    "model.fit(train_dataset, epochs=3)"
   ]
  },
  {
   "cell_type": "code",
   "execution_count": 40,
   "metadata": {},
   "outputs": [
    {
     "name": "stdout",
     "output_type": "stream",
     "text": [
      "157/157 [==============================] - 1s 3ms/step - loss: 0.1293 - sparse_categorical_accuracy: 0.9625\n"
     ]
    },
    {
     "data": {
      "text/plain": [
       "[0.12927498794783643, 0.9625]"
      ]
     },
     "execution_count": 40,
     "metadata": {},
     "output_type": "execute_result"
    }
   ],
   "source": [
    "model.evaluate(test_dataset)"
   ]
  },
  {
   "cell_type": "markdown",
   "metadata": {},
   "source": [
    "- Note that the Dataset is reset at the end of each epoch, so it can be reused of the next epoch.\n",
    "- If you want to run training only on a specific number of batches from this Dataset, you can pass the `steps_per_epoch` argument, which specifies how many training steps the model should run using this Dataset before moving on to the next epoch.\n",
    "    - If you do this, the dataset is not reset at the end of each epoch, instead we just keep drawing the next batches. \n",
    "    - The dataset will eventually run out of data (unless it is an infinitely-looping dataset)."
   ]
  },
  {
   "cell_type": "code",
   "execution_count": 41,
   "metadata": {},
   "outputs": [
    {
     "name": "stdout",
     "output_type": "stream",
     "text": [
      "Train for 100 steps\n",
      "Epoch 1/3\n",
      "100/100 [==============================] - 1s 15ms/step - loss: 0.7725 - sparse_categorical_accuracy: 0.8027\n",
      "Epoch 2/3\n",
      "100/100 [==============================] - 1s 5ms/step - loss: 0.3739 - sparse_categorical_accuracy: 0.8916\n",
      "Epoch 3/3\n",
      "100/100 [==============================] - 1s 6ms/step - loss: 0.3368 - sparse_categorical_accuracy: 0.9020\n"
     ]
    },
    {
     "data": {
      "text/plain": [
       "<tensorflow.python.keras.callbacks.History at 0x7fe82d807e90>"
      ]
     },
     "execution_count": 41,
     "metadata": {},
     "output_type": "execute_result"
    }
   ],
   "source": [
    "model = get_compiled_model()\n",
    "\n",
    "train_dataset = tf.data.Dataset.from_tensor_slices((X_train, y_train))\n",
    "train_dataset = train_dataset.shuffle(buffer_size=1024).batch(64)\n",
    "\n",
    "# Only use 100 batches per epoch (that's 64 * 100 samples)\n",
    "model.fit(train_dataset, epochs=3, steps_per_epoch=100)"
   ]
  },
  {
   "cell_type": "markdown",
   "metadata": {},
   "source": [
    "## Using a validation dataset\n",
    "- You can pass a `Dataset` instance as the `validation_data` argument in `fit()`."
   ]
  },
  {
   "cell_type": "code",
   "execution_count": 42,
   "metadata": {},
   "outputs": [],
   "source": [
    "model = get_compiled_model()\n",
    "\n",
    "# Prepare the training dataset\n",
    "train_dataset = tf.data.Dataset.from_tensor_slices((X_train, y_train))\n",
    "train_dataset = train_dataset.shuffle(buffer_size=1024).batch(64)\n",
    "\n",
    "# Prepare the validation dataset\n",
    "val_dataset = tf.data.Dataset.from_tensor_slices((X_val, y_val))\n",
    "val_dataset = val_dataset.batch(64)"
   ]
  },
  {
   "cell_type": "code",
   "execution_count": 43,
   "metadata": {},
   "outputs": [
    {
     "name": "stdout",
     "output_type": "stream",
     "text": [
      "782/782 [==============================] - 7s 9ms/step - loss: 0.3351 - sparse_categorical_accuracy: 0.9050 - val_loss: 0.0000e+00 - val_sparse_categorical_accuracy: 0.0000e+00\n"
     ]
    },
    {
     "data": {
      "text/plain": [
       "<tensorflow.python.keras.callbacks.History at 0x7fe82dfd08d0>"
      ]
     },
     "execution_count": 43,
     "metadata": {},
     "output_type": "execute_result"
    }
   ],
   "source": [
    "model.fit(train_dataset, epochs=1, validation_data=val_dataset)"
   ]
  },
  {
   "cell_type": "markdown",
   "metadata": {},
   "source": [
    "- At the end of each epoch, the model will iterate over the validation dataset and compute the validation loss and validation metrics.\n",
    "- If you want to run validation only on a specific number of batches from this dataset, you can pass the `validation_steps` argument, which specifies how many validation steps the model should run with the validation dataset before interrupting validation and moving on to the next epoch."
   ]
  },
  {
   "cell_type": "code",
   "execution_count": 44,
   "metadata": {},
   "outputs": [
    {
     "name": "stdout",
     "output_type": "stream",
     "text": [
      "782/782 [==============================] - 7s 9ms/step - loss: 0.3382 - sparse_categorical_accuracy: 0.9044 - val_loss: 0.0000e+00 - val_sparse_categorical_accuracy: 0.0000e+00\n"
     ]
    },
    {
     "data": {
      "text/plain": [
       "<tensorflow.python.keras.callbacks.History at 0x7fe82ef94190>"
      ]
     },
     "execution_count": 44,
     "metadata": {},
     "output_type": "execute_result"
    }
   ],
   "source": [
    "model = get_compiled_model()\n",
    "\n",
    "# Prepare the training dataset\n",
    "train_dataset = tf.data.Dataset.from_tensor_slices((X_train, y_train))\n",
    "train_dataset = train_dataset.shuffle(buffer_size=1024).batch(64)\n",
    "\n",
    "# Prepare the validation dataset\n",
    "val_dataset = tf.data.Dataset.from_tensor_slices((X_val, y_val))\n",
    "val_dataset = val_dataset.batch(64)\n",
    "\n",
    "model.fit(train_dataset, epochs=1, validation_data=val_dataset, validation_steps=10)"
   ]
  },
  {
   "cell_type": "markdown",
   "metadata": {},
   "source": [
    "# Other input formats supported\n",
    "- Besides NumPy arrays, eager tensors, and TensorFlow `Datasets`, it's possible to train a Keras model using Pandas `dataframes`, or from Python generators that yield batches of data & labels.\n",
    "- In particular, the `keras.utils.Sequence` class offers a simple interface to build Python data generators that are multiprocessing-aware and can be shuffled.\n",
    "- In general, we recommend that you use:\n",
    "    - NumPy input data if your data is small and fits in memory\n",
    "    - `Dataset` objects if you have large datasets and you need to do distributed training\n",
    "    - `Sequence` objects if you have large datasets and you need to do a lot of custom Python-side processing that cannot be done in TensorFlow (e.g. rely on externel libraries for data loading or preprocessing)."
   ]
  },
  {
   "cell_type": "markdown",
   "metadata": {},
   "source": [
    "# Using a `keras.utils.Sequence` object as input\n",
    "- **`keras.utils.Sequence`** is a utility that you can subclass to obtain a Python generator with two important properties:\n",
    "    - It works well with multiprocessing.\n",
    "    - It can be shuffled (e.g. when passing `shuffle=True` in `fit()`).\n",
    "- A `Sequence` must implement two methods:\n",
    "    - `__getitem__`\n",
    "    - `__len__`"
   ]
  },
  {
   "cell_type": "code",
   "execution_count": 45,
   "metadata": {},
   "outputs": [],
   "source": [
    "# from skimage.io import imread\n",
    "# from skimage.transform import resize\n",
    "# import numpy as np"
   ]
  },
  {
   "cell_type": "code",
   "execution_count": 46,
   "metadata": {},
   "outputs": [],
   "source": [
    "# Here, filename is a list of path to the images and labels are the associated labels\n",
    "class CIFAR10Sequence(keras.utils.Sequence):\n",
    "    def __init__(self, filename, labels, batch_size):\n",
    "        self.filename = filename\n",
    "        self.labels = labels\n",
    "        self.batch_size = batch_size\n",
    "        \n",
    "    def __len__(self):\n",
    "        return int(np.ceil(len(self.filename) / float(self.batch_size)))\n",
    "    \n",
    "    def __getitem__(self, idx):\n",
    "        batch_X = self.filenames[idx * self.batch_size:(idx + 1) * self.batch_size]\n",
    "        batch_y = self.labels[idx * self.batch_size:(idx + 1) * self.batch_size]\n",
    "        return np.array([\n",
    "            resize(imread(filename), (200, 200))\n",
    "               for filename in batch_X]), np.array(batch_y)"
   ]
  },
  {
   "cell_type": "code",
   "execution_count": 47,
   "metadata": {},
   "outputs": [],
   "source": [
    "# sequence = CIFAR10Sequence(filename, labels, batch_size)\n",
    "# model.fit(sequence, epochs=10)"
   ]
  },
  {
   "cell_type": "markdown",
   "metadata": {},
   "source": [
    "# Using sample weighting and class weighting\n",
    "- With the default settings the weight of a sample is decided by its frequency in the dataset.\n",
    "- There are two methods to weight the data, independent of sample frequency:\n",
    "    - Class weights\n",
    "    - Sample weights\n",
    "\n",
    "## Class Weights\n",
    "- This is set by passing a dictionary to the `class_weight` argument to `Model.fit()`. \n",
    "- This dictionary maps class indices to the weight that should be used for samples belonging to this class.\n",
    "- This can be used to balance classes without resampling, or to train a model that has a gives more importance to a particular class.\n",
    "    - For instance, if class \"0\" is half as represented as class \"1\" in your data, you could use `Model.fit(..., class_weight={0: 1., 1: 0.5})`.\n",
    "- Here's a NumPy example where we use class weights or sample weights to give more importance to the **correct classification of class #5** (which is the digit \"5\" in the MNIST dataset)."
   ]
  },
  {
   "cell_type": "code",
   "execution_count": 48,
   "metadata": {},
   "outputs": [],
   "source": [
    "import numpy as np\n",
    "\n",
    "class_weight = {\n",
    "    0: 1.0,\n",
    "    1: 1.0,\n",
    "    2: 1.0, \n",
    "    3: 1.0,\n",
    "    4: 1.0,\n",
    "    5: 2.0, # We double the weight for class 5\n",
    "    6: 1.0,\n",
    "    7: 1.0,\n",
    "    8: 1.0,\n",
    "    9: 1.0\n",
    "}"
   ]
  },
  {
   "cell_type": "code",
   "execution_count": 49,
   "metadata": {},
   "outputs": [],
   "source": [
    "model = get_compiled_model()"
   ]
  },
  {
   "cell_type": "code",
   "execution_count": 50,
   "metadata": {},
   "outputs": [
    {
     "name": "stdout",
     "output_type": "stream",
     "text": [
      "Train on 50000 samples\n",
      "50000/50000 [==============================] - 4s 88us/sample - loss: 0.3796 - sparse_categorical_accuracy: 0.8993\n"
     ]
    },
    {
     "data": {
      "text/plain": [
       "<tensorflow.python.keras.callbacks.History at 0x7fe82fe5c910>"
      ]
     },
     "execution_count": 50,
     "metadata": {},
     "output_type": "execute_result"
    }
   ],
   "source": [
    "model.fit(X_train, y_train, class_weight=class_weight, batch_size=64, epochs=1)"
   ]
  },
  {
   "cell_type": "markdown",
   "metadata": {},
   "source": [
    "## Sample Weights\n",
    "- For fine grained control, or if you are not building a classifier, you can use sample weights.\n",
    "    - When training from NumPy data, pass the `sample_weight` argument to `Model.fit()`.\n",
    "    - When training from `tf.data` or any other sort of iterator, yiled `(input_batch, label_batch, sample_weight_batch)` tuples.\n",
    "- A \"sample weights\" array is an array of numbers that specify how much weight each sample in a batch should have in computing the total loss. \n",
    "    - It is commonly used in imbalanced classification problems (the idea being to give more weight to rarely-seen classes).\n",
    "- When the weights used are ones and zeros, the array can be used as a mask for the loss function (entirely discarding the contribution of certain samples to the total loss)."
   ]
  },
  {
   "cell_type": "code",
   "execution_count": 51,
   "metadata": {},
   "outputs": [],
   "source": [
    "sample_weight = np.ones(shape=(len(y_train,)))\n",
    "sample_weight[y_train == 5] = 2.0"
   ]
  },
  {
   "cell_type": "code",
   "execution_count": 52,
   "metadata": {},
   "outputs": [
    {
     "name": "stdout",
     "output_type": "stream",
     "text": [
      "Train on 50000 samples\n",
      "50000/50000 [==============================] - 5s 93us/sample - loss: 0.3832 - sparse_categorical_accuracy: 0.8975\n"
     ]
    },
    {
     "data": {
      "text/plain": [
       "<tensorflow.python.keras.callbacks.History at 0x7fe831151ed0>"
      ]
     },
     "execution_count": 52,
     "metadata": {},
     "output_type": "execute_result"
    }
   ],
   "source": [
    "model = get_compiled_model()\n",
    "model.fit(X_train, y_train, sample_weight=sample_weight, batch_size=64, epochs=1)"
   ]
  },
  {
   "cell_type": "markdown",
   "metadata": {},
   "source": [
    "- Here's an example using `Dataset` input."
   ]
  },
  {
   "cell_type": "code",
   "execution_count": 53,
   "metadata": {},
   "outputs": [],
   "source": [
    "sample_weight = np.ones(shape=(len(y_train),))\n",
    "sample_weight[y_train == 5] = 2.0"
   ]
  },
  {
   "cell_type": "code",
   "execution_count": 54,
   "metadata": {},
   "outputs": [],
   "source": [
    "# Create a Dataset that includes sample weights\n",
    "train_dataset = tf.data.Dataset.from_tensor_slices((X_train, y_train, sample_weight))"
   ]
  },
  {
   "cell_type": "code",
   "execution_count": 55,
   "metadata": {},
   "outputs": [],
   "source": [
    "# Shuffle and slice the dataset\n",
    "train_dataset = train_dataset.shuffle(buffer_size=1024).batch(64)"
   ]
  },
  {
   "cell_type": "code",
   "execution_count": 56,
   "metadata": {},
   "outputs": [
    {
     "name": "stdout",
     "output_type": "stream",
     "text": [
      "782/782 [==============================] - 7s 9ms/step - loss: 0.3715 - sparse_categorical_accuracy: 0.9026\n"
     ]
    },
    {
     "data": {
      "text/plain": [
       "<tensorflow.python.keras.callbacks.History at 0x7fe8320a5bd0>"
      ]
     },
     "execution_count": 56,
     "metadata": {},
     "output_type": "execute_result"
    }
   ],
   "source": [
    "model = get_compiled_model()\n",
    "model.fit(train_dataset, epochs=1)"
   ]
  },
  {
   "cell_type": "markdown",
   "metadata": {},
   "source": [
    "# Passing data to multi-input, multi-output models\n",
    "- In the previous examples, we were considering a model with a single input (a tensor of shape (764,)) and a single output (a prediction tensor of shape (10,)). \n",
    "- But what about models that have multiple inputs or outputs?\n",
    "- Consider the following model, which has an image input of shape (32, 32, 3) (that's (height, width, channels)) and a timeseries input of shape (None, 10) (that's (timesteps, features)). \n",
    "- Our model will have two outputs computed from the combination of these inputs: a \"score\" (of shape (1,)) and a probability distribution over five classes (of shape (5,))."
   ]
  },
  {
   "cell_type": "code",
   "execution_count": 57,
   "metadata": {},
   "outputs": [],
   "source": [
    "image_input = keras.Input(shape=(32, 32, 3), name='img_input')\n",
    "timeseries_input = keras.Input(shape=(None, 10), name='ts_input')\n",
    "\n",
    "X1 = layers.Conv2D(3,3)(image_input)\n",
    "X1 = layers.GlobalMaxPool2D()(X1)\n",
    "\n",
    "X2 = layers.Conv1D(3,3)(timeseries_input)\n",
    "X2 = layers.GlobalMaxPool1D()(X2)\n",
    "\n",
    "X = layers.concatenate([X1, X2])\n",
    "\n",
    "score_output = layers.Dense(1, name='score_output')(X)\n",
    "class_output = layers.Dense(5, activation='softmax', name='class_output')(X)\n",
    "\n",
    "model = keras.Model(\n",
    "    inputs=[image_input, timeseries_input],\n",
    "    outputs=[score_output, class_output]\n",
    ")"
   ]
  },
  {
   "cell_type": "code",
   "execution_count": 58,
   "metadata": {},
   "outputs": [
    {
     "data": {
      "image/png": "[encoded data removed]",
      "text/plain": [
       "<IPython.core.display.Image object>"
      ]
     },
     "execution_count": 58,
     "metadata": {},
     "output_type": "execute_result"
    }
   ],
   "source": [
    "keras.utils.plot_model(model, \"multi_input_and_output_model.png\", show_shapes=True)"
   ]
  },
  {
   "cell_type": "code",
   "execution_count": 59,
   "metadata": {},
   "outputs": [],
   "source": [
    "model.compile(\n",
    "    optimizer=keras.optimizers.RMSprop(1e-3),\n",
    "    loss=[keras.losses.MeanSquaredError(), keras.losses.CategoricalCrossentropy()],\n",
    "    metrics=[\n",
    "        [keras.metrics.MeanAbsolutePercentageError(),\n",
    "         keras.metrics.MeanAbsoluteError()],\n",
    "        [keras.metrics.CategoricalAccuracy()],\n",
    "    ]\n",
    ")"
   ]
  },
  {
   "cell_type": "markdown",
   "metadata": {},
   "source": [
    "- If we only passed a single loss function to the model, the same loss function would be applied to every output (which is not appropriate here).\n",
    "- Likewise for metrics."
   ]
  },
  {
   "cell_type": "markdown",
   "metadata": {},
   "source": [
    "- Since we gave names to our output layers, we could also specify per-output losses and metrics via a dictionary."
   ]
  },
  {
   "cell_type": "code",
   "execution_count": 60,
   "metadata": {},
   "outputs": [],
   "source": [
    "model.compile(\n",
    "    optimizer=keras.optimizers.RMSprop(1e-3),\n",
    "    \n",
    "    loss={\n",
    "        \"score_output\": keras.losses.MeanSquaredError(),\n",
    "        \"class_output\": keras.losses.CategoricalCrossentropy()\n",
    "    },\n",
    "    \n",
    "    metrics={\n",
    "        \"score_output\": [\n",
    "            keras.metrics.MeanAbsolutePercentageError(),\n",
    "            keras.metrics.MeanAbsoluteError()\n",
    "        ],\n",
    "        \"class_output\": [keras.metrics.CategoricalAccuracy()]\n",
    "    }\n",
    ")"
   ]
  },
  {
   "cell_type": "markdown",
   "metadata": {},
   "source": [
    "- It's possible to give different weights to different output-specific losses.\n",
    "    - For instance, one might wish to privilege the \"score\" loss in our example, by giving to 2x the importance of the class loss), using the `loss_weights` argument."
   ]
  },
  {
   "cell_type": "code",
   "execution_count": 61,
   "metadata": {},
   "outputs": [],
   "source": [
    "model.compile(\n",
    "    optimizer=keras.optimizers.RMSprop(1e-3),\n",
    "    \n",
    "    loss={\n",
    "        \"score_output\": keras.losses.MeanSquaredError(),\n",
    "        \"class_output\": keras.losses.CategoricalCrossentropy()\n",
    "    },\n",
    "    \n",
    "    metrics={\n",
    "        \"score_output\": [\n",
    "            keras.metrics.MeanAbsolutePercentageError(),\n",
    "            keras.metrics.MeanAbsoluteError()\n",
    "        ],\n",
    "        \"class_output\": [keras.metrics.CategoricalAccuracy()]\n",
    "    },\n",
    "    \n",
    "    loss_weights={\"score_output\": 2.0, \"class_output\": 1.0}\n",
    ")"
   ]
  },
  {
   "cell_type": "markdown",
   "metadata": {},
   "source": [
    "- You could also choose not to compute a loss for certain outputs, if these outputs meant for prediction but not for training."
   ]
  },
  {
   "cell_type": "code",
   "execution_count": 62,
   "metadata": {},
   "outputs": [],
   "source": [
    "model.compile(optimizer=keras.optimizers.RMSprop(1e-3),\n",
    "             loss=[None, keras.losses.CategoricalCrossentropy()])"
   ]
  },
  {
   "cell_type": "code",
   "execution_count": 63,
   "metadata": {},
   "outputs": [
    {
     "name": "stdout",
     "output_type": "stream",
     "text": [
      "WARNING:tensorflow:Output score_output missing from loss dictionary. We assume this was done on purpose. The fit and evaluate APIs will not be expecting any data to be passed to score_output.\n"
     ]
    }
   ],
   "source": [
    "# Or using the dictionary version\n",
    "\n",
    "model.compile(optimizer=keras.optimizers.RMSprop(1e-3),\n",
    "             loss={\"class_output\": keras.losses.CategoricalCrossentropy()})"
   ]
  },
  {
   "cell_type": "markdown",
   "metadata": {},
   "source": [
    "- Passing data to a multi-input or multi-output model in `fit()` works in a similar way as specifying a loss function in `compile()`.\n",
    "    - You can pass lists of NumPy arrays (with 1:1 mapping to the outputs that receive a loss function) or dicts mapping output names to NumPy arrays."
   ]
  },
  {
   "cell_type": "code",
   "execution_count": 64,
   "metadata": {},
   "outputs": [],
   "source": [
    "model.compile(\n",
    "    optimizer=keras.optimizers.RMSprop(1e-3),\n",
    "    loss=[keras.losses.MeanSquaredError(), keras.losses.CategoricalCrossentropy()],\n",
    ")"
   ]
  },
  {
   "cell_type": "code",
   "execution_count": 65,
   "metadata": {},
   "outputs": [],
   "source": [
    "# Generate dummy NumPy data\n",
    "img_data = np.random.random_sample(size=(100, 32, 32, 3))\n",
    "ts_data = np.random.random_sample(size=(100, 20, 10))\n",
    "\n",
    "score_targets = np.random.random_sample(size=(100, 1))\n",
    "class_targets = np.random.random_sample(size=(100, 5))"
   ]
  },
  {
   "cell_type": "code",
   "execution_count": 66,
   "metadata": {},
   "outputs": [
    {
     "name": "stdout",
     "output_type": "stream",
     "text": [
      "Train on 100 samples\n",
      "100/100 [==============================] - 1s 12ms/sample - loss: 5.9598 - score_output_loss: 0.5238 - class_output_loss: 5.3261\n"
     ]
    },
    {
     "data": {
      "text/plain": [
       "<tensorflow.python.keras.callbacks.History at 0x7fe83401a0d0>"
      ]
     },
     "execution_count": 66,
     "metadata": {},
     "output_type": "execute_result"
    }
   ],
   "source": [
    "# Fit on lists\n",
    "model.fit([img_data, ts_data],\n",
    "         [score_targets, class_targets],\n",
    "         batch_size=32, epochs=1)"
   ]
  },
  {
   "cell_type": "code",
   "execution_count": 67,
   "metadata": {},
   "outputs": [
    {
     "name": "stdout",
     "output_type": "stream",
     "text": [
      "Train on 100 samples\n",
      "100/100 [==============================] - 0s 751us/sample - loss: 5.3934 - score_output_loss: 0.4274 - class_output_loss: 5.0158\n"
     ]
    },
    {
     "data": {
      "text/plain": [
       "<tensorflow.python.keras.callbacks.History at 0x7fe834d73f10>"
      ]
     },
     "execution_count": 67,
     "metadata": {},
     "output_type": "execute_result"
    }
   ],
   "source": [
    "# Alternatively, we can fit on dictionary\n",
    "model.fit(\n",
    "    {\"img_input\": img_data, \"ts_input\": ts_data},\n",
    "    {\"score_output\": score_targets, \"class_output\": class_targets},\n",
    "    batch_size=32,\n",
    "    epochs=1\n",
    ")"
   ]
  },
  {
   "cell_type": "markdown",
   "metadata": {},
   "source": [
    "- Here is the `Dataset` use case.\n",
    "    - Similar to what we did for NumPy arrays, the `Dataset` should return a tuple of dictionaries."
   ]
  },
  {
   "cell_type": "code",
   "execution_count": 68,
   "metadata": {},
   "outputs": [],
   "source": [
    "train_dataset = tf.data.Dataset.from_tensor_slices(\n",
    "    (\n",
    "        {\"img_input\": img_data, \"ts_input\": ts_data},\n",
    "        {\"score_output\": score_targets, \"class_output\": class_targets}\n",
    "    )\n",
    ")\n",
    "\n",
    "train_dataset = train_dataset.shuffle(buffer_size=1024).batch(64)"
   ]
  },
  {
   "cell_type": "code",
   "execution_count": 69,
   "metadata": {},
   "outputs": [
    {
     "name": "stdout",
     "output_type": "stream",
     "text": [
      "2/2 [==============================] - 1s 513ms/step - loss: 5.1327 - score_output_loss: 0.2306 - class_output_loss: 4.9020\n"
     ]
    },
    {
     "data": {
      "text/plain": [
       "<tensorflow.python.keras.callbacks.History at 0x7fe849323b10>"
      ]
     },
     "execution_count": 69,
     "metadata": {},
     "output_type": "execute_result"
    }
   ],
   "source": [
    "model.fit(train_dataset, epochs=1)"
   ]
  },
  {
   "cell_type": "markdown",
   "metadata": {},
   "source": [
    "# Using callbacks\n",
    "- Callbacks in Keras are objects that are called at different point during training (at the start of an epoch, at the end of a batch, at the end of an epoch, etc.) and which can be used to implement behaviors such as:\n",
    "    - Doing validation at different points during training (beyond the built-in per-epoch validation)\n",
    "    - Checkpointing the model at regular intervals or when it exceeds a certain accuracy threshold\n",
    "    - Changing the learning rate of the model when training seems to be plateauing\n",
    "    - Doing fine-tuning of the top layers when training seems to be plateauing\n",
    "    - Sending email or instant message notifications when training ends or where a certain performance threshold is exceeded\n",
    "    - Etc.\n",
    "- Callbacks can be passed as a list to your call to `fit()`."
   ]
  },
  {
   "cell_type": "code",
   "execution_count": 70,
   "metadata": {},
   "outputs": [],
   "source": [
    "model = get_compiled_model()"
   ]
  },
  {
   "cell_type": "code",
   "execution_count": 71,
   "metadata": {},
   "outputs": [],
   "source": [
    "callbacks = [\n",
    "    keras.callbacks.EarlyStopping(\n",
    "        monitor='val_loss', # stop training when val_loss is no longer improving\n",
    "        min_delta = 1e-2, # \"no longer improving\" defined as \"no better than 1e-2 less\"\n",
    "        patience=2,\n",
    "        verbose=1\n",
    "    )\n",
    "]"
   ]
  },
  {
   "cell_type": "code",
   "execution_count": 72,
   "metadata": {},
   "outputs": [
    {
     "name": "stdout",
     "output_type": "stream",
     "text": [
      "Train on 40000 samples, validate on 10000 samples\n",
      "Epoch 1/20\n",
      "40000/40000 [==============================] - 3s 87us/sample - loss: 0.3826 - sparse_categorical_accuracy: 0.8927 - val_loss: 0.2600 - val_sparse_categorical_accuracy: 0.9187\n",
      "Epoch 2/20\n",
      "40000/40000 [==============================] - 3s 76us/sample - loss: 0.1792 - sparse_categorical_accuracy: 0.9466 - val_loss: 0.1793 - val_sparse_categorical_accuracy: 0.9458\n",
      "Epoch 3/20\n",
      "40000/40000 [==============================] - 3s 78us/sample - loss: 0.1284 - sparse_categorical_accuracy: 0.9620 - val_loss: 0.1601 - val_sparse_categorical_accuracy: 0.9495\n",
      "Epoch 4/20\n",
      "40000/40000 [==============================] - 3s 81us/sample - loss: 0.1011 - sparse_categorical_accuracy: 0.9697 - val_loss: 0.1360 - val_sparse_categorical_accuracy: 0.9591\n",
      "Epoch 5/20\n",
      "40000/40000 [==============================] - 3s 82us/sample - loss: 0.0839 - sparse_categorical_accuracy: 0.9747 - val_loss: 0.1330 - val_sparse_categorical_accuracy: 0.9612\n",
      "Epoch 6/20\n",
      "40000/40000 [==============================] - 3s 76us/sample - loss: 0.0700 - sparse_categorical_accuracy: 0.9786 - val_loss: 0.1264 - val_sparse_categorical_accuracy: 0.9632\n",
      "Epoch 00006: early stopping\n"
     ]
    },
    {
     "data": {
      "text/plain": [
       "<tensorflow.python.keras.callbacks.History at 0x7fe836331490>"
      ]
     },
     "execution_count": 72,
     "metadata": {},
     "output_type": "execute_result"
    }
   ],
   "source": [
    "model.fit(X_train, y_train, epochs=20, batch_size=64, \n",
    "          callbacks=callbacks, validation_split=0.2)"
   ]
  },
  {
   "cell_type": "markdown",
   "metadata": {},
   "source": [
    "## Many built-in callbacks are available\n",
    "- `ModelCheckpoint`: Periodically save the model\n",
    "- `EarlyStopping`: Stop training when training is no longer improving the validation metrics\n",
    "- `TensorBoard`: Periodically write model logs that can be visualized in `TensorBoard`\n",
    "- `CSVLogger`: Streams loss and metrics data to a CSV file"
   ]
  },
  {
   "cell_type": "markdown",
   "metadata": {},
   "source": [
    "## Writing your own callback\n",
    "- You can create a custom callback by extending the base class `keras.callbacks.Callback`.\n",
    "- A callback has access to its associated model through the class property `self.model`.\n",
    "- Here's a simple example saving a list of per-batch loss values during training."
   ]
  },
  {
   "cell_type": "code",
   "execution_count": 73,
   "metadata": {},
   "outputs": [],
   "source": [
    "class LossHistory(keras.callbacks.Callback):\n",
    "    def on_train_begin(self, logs):\n",
    "        self.per_batch_losses = []\n",
    "        \n",
    "    def on_batch_end(self, batch, logs):\n",
    "        self.per_batch_losses.append(logs.get(\"loss\"))"
   ]
  },
  {
   "cell_type": "markdown",
   "metadata": {},
   "source": [
    "## Checkpointing models\n",
    "- When you're training model on relatively large datasets, it's crucial to save checkpoints of your model at frequent intervals.\n",
    "- The easiest way to achieve this is with the `ModelCheckpoint` callback."
   ]
  },
  {
   "cell_type": "code",
   "execution_count": 74,
   "metadata": {},
   "outputs": [],
   "source": [
    "model = get_compiled_model()"
   ]
  },
  {
   "cell_type": "code",
   "execution_count": 75,
   "metadata": {},
   "outputs": [],
   "source": [
    "callbacks = [\n",
    "    keras.callbacks.ModelCheckpoint(\n",
    "        # Path where to save the model\n",
    "        # The two parameters below mean that we will overwrite\n",
    "        # the current checkpoint if and only if\n",
    "        # the `val_loss` score has improved.\n",
    "        # The saved model name will include the current epoch.\n",
    "        filepath=\"mymodel_{epoch}\",\n",
    "        save_best_only=True,\n",
    "        monitor='val_loss',\n",
    "        verbose=1\n",
    "    )\n",
    "]"
   ]
  },
  {
   "cell_type": "code",
   "execution_count": 76,
   "metadata": {},
   "outputs": [],
   "source": [
    "# model.fit(X_train, y_train, epochs=2, batch_size=64, \n",
    "#           callbacks=callbacks, validation_split=0.2)"
   ]
  },
  {
   "cell_type": "markdown",
   "metadata": {},
   "source": [
    "- The `ModelCheckpoint` callback can be used to implement fault-tolerance: the ability to restart training from the last saved state of the model in case training gets randomly interrupted.\n",
    "- Here is a basic example."
   ]
  },
  {
   "cell_type": "code",
   "execution_count": 77,
   "metadata": {},
   "outputs": [],
   "source": [
    "# import os\n",
    "\n",
    "# # Prepare a directory to store all the checkpoints\n",
    "# checkpoint_dir = \"./ckpt\"\n",
    "# if not os.path.existsi(checkpoint_dir):\n",
    "#     os.makedirs(checkpoint_dir)\n",
    "    \n",
    "# def make_or_restore_model():\n",
    "#     # Either restore the latest model, or create a fresh one if there is no checkpoint available\n",
    "#     checkpoints = [checkpoint_dir + \"/\" + name for name in os.listdir(checkpoint_dir)]\n",
    "#     if checkpoints:\n",
    "#         latest_checkpoint = max(checkpoints, key=os.path.getctime)\n",
    "#         print(\"Restoring from\", latest_checkpoint)\n",
    "#         return keras.models.load_model(latest_checkpoint)\n",
    "#     print(\"Creating a new model\")\n",
    "#     return get_compiled_model()\n",
    "\n",
    "# model = make_or_restore_model()\n",
    "\n",
    "# callbacks = [\n",
    "#     # This callback saves a SavedModel every 100 batches.\n",
    "#     # We include the training loss in the saved model name.\n",
    "#     keras.callbacks.ModelCheckpoint(\n",
    "#         filepath=checkpoint_dir + \"/ckpt-loss={loss:.2f}\", save_freq=100\n",
    "#     )\n",
    "# ]\n",
    "\n",
    "# model.fit(x_train, y_train, epochs=1, callbacks=callbacks)"
   ]
  },
  {
   "cell_type": "markdown",
   "metadata": {},
   "source": [
    "# Using learning rate schedules\n",
    "- A common pattern when training deep learning models is to gradually reduce the learning as training progresses. \n",
    "    - This is generally known as \"learning rate decay\".\n",
    "- The learning decay schedule could be static (fixed in advance, as a function of the current epoch or the current batch index), or dynamic (responding to the current behavior of the model, in particular the validation loss).\n",
    "\n",
    "## Passing a schedule to an optimizer\n",
    "- You can easily use a static learning rate decay schedule by passing a schedule object as the `learning_rate` argument in the optimizer."
   ]
  },
  {
   "cell_type": "code",
   "execution_count": 78,
   "metadata": {},
   "outputs": [],
   "source": [
    "initial_learning_rate = 0.1\n",
    "\n",
    "lr_schedule = keras.optimizers.schedules.ExponentialDecay(\n",
    "    initial_learning_rate, decay_steps=100000, decay_rate=0.96, staircase=True\n",
    ")\n",
    "\n",
    "optimizer = keras.optimizers.RMSprop(learning_rate=lr_schedule)"
   ]
  },
  {
   "cell_type": "markdown",
   "metadata": {},
   "source": [
    "- Several built-in schedules are available.\n",
    "    - `ExponentialDecay`\n",
    "    - `PiecewiseConstantDecay`\n",
    "    - `PolynomialDecay`\n",
    "    - `InverseTimeDecay`"
   ]
  },
  {
   "cell_type": "markdown",
   "metadata": {},
   "source": [
    "## Using callbacks to implement a dynamic learning rate schedule\n",
    "- A dynamic learning rate schedule (for instance, decreasing the learning rate when the validation loss is no longer improving) cannot be achieved with these schedule objects since the optimizer does not have access to validation metrics.\n",
    "- However, callbacks do have access to all metrics, including validation metrics! \n",
    "    - You can thus achieve this pattern by using a callback that modifies the current learning rate on the optimizer. \n",
    "    - In fact, this is even built-in as the `ReduceLROnPlateau` callback."
   ]
  }
 ],
 "metadata": {
  "kernelspec": {
   "display_name": "Python 3",
   "language": "python",
   "name": "python3"
  },
  "language_info": {
   "codemirror_mode": {
    "name": "ipython",
    "version": 3
   },
   "file_extension": ".py",
   "mimetype": "text/x-python",
   "name": "python",
   "nbconvert_exporter": "python",
   "pygments_lexer": "ipython3",
   "version": "3.7.6"
  }
 },
 "nbformat": 4,
 "nbformat_minor": 4
}
