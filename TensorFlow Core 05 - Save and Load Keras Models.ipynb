{
 "cells": [
  {
   "cell_type": "markdown",
   "metadata": {},
   "source": [
    "# Introduction\n",
    "- A Keras model consists of multiple components.\n",
    "    - An architecture, or configuration, which specifies what layers the model contains and how they are connected\n",
    "    - A set of weights values (i.e. the state of the model)\n",
    "    - An optimizer (defined by compiling the model)\n",
    "    - A set of losses and metrics (defined by compiling the model or calling `add_loss()` or `add_metric()`).\n",
    "- The Keras API makes it possible to save all of these pieces to disk at once, or to only selectively save some of them.\n",
    "    - The standard practice is to save everything into a single archive in the TensorFlow SavedModel format.\n",
    "    - Saving the architecture/configuration only, typically as a JSON file\n",
    "    - Saving the weights values only, usually used when training the model."
   ]
  },
  {
   "cell_type": "markdown",
   "metadata": {},
   "source": [
    "# The short answer to saving & loading\n",
    "- If you only have 10 seconds to read this guide, here's what you need to know.\n",
    "- To save a Keras model:"
   ]
  },
  {
   "cell_type": "code",
   "execution_count": 1,
   "metadata": {},
   "outputs": [],
   "source": [
    "# model = ...\n",
    "# model.save('path/to/location')"
   ]
  },
  {
   "cell_type": "markdown",
   "metadata": {},
   "source": [
    "- To load the model back:"
   ]
  },
  {
   "cell_type": "code",
   "execution_count": 2,
   "metadata": {},
   "outputs": [],
   "source": [
    "from tensorflow import keras"
   ]
  },
  {
   "cell_type": "code",
   "execution_count": 3,
   "metadata": {},
   "outputs": [],
   "source": [
    "# model = keras.models.load_model('path/to/location')"
   ]
  },
  {
   "cell_type": "markdown",
   "metadata": {},
   "source": [
    "# Setup"
   ]
  },
  {
   "cell_type": "code",
   "execution_count": 4,
   "metadata": {},
   "outputs": [],
   "source": [
    "import numpy as np\n",
    "import tensorflow as tf\n",
    "from tensorflow import keras"
   ]
  },
  {
   "cell_type": "markdown",
   "metadata": {},
   "source": [
    "# Whole-model saving & loading\n",
    "- You can save an entire model to a single artifact. \n",
    "- It will include:\n",
    "    - The model's architecture/config\n",
    "    - The model's weight values (which were learned during training)\n",
    "    - The model's compilation information (if `compile()`) was called\n",
    "    - The optimizer and its state, if any (this enables you to restart training where you left)\n",
    "- **APIs**\n",
    "    - `model.save()` or `tf.keras.models.save_model()`\n",
    "    - `tf.keras.models.load_model()`\n",
    "- There are two formats you can use to save an entire model to disk: the **TensorFlow SavedModel** format, and the older **Keras H5** format. \n",
    "    - The recommended format is SavedModel. \n",
    "        - It is the default when you use `model.save()`.\n",
    "    - You can switch to the H5 format by:\n",
    "        - Passing `format='h5'` to `save()`.\n",
    "        - Passing a filename that ends in `.h5` or `.keras` to `save()`."
   ]
  },
  {
   "cell_type": "markdown",
   "metadata": {},
   "source": [
    "## SavedModel format"
   ]
  },
  {
   "cell_type": "code",
   "execution_count": 5,
   "metadata": {},
   "outputs": [],
   "source": [
    "def get_model():\n",
    "    inputs = keras.Input(shape=(32,))\n",
    "    outputs = keras.layers.Dense(1)(inputs)\n",
    "    model = keras.Model(inputs, outputs)\n",
    "    model.compile(optimizer='adam', loss='mean_squared_error')\n",
    "    return model"
   ]
  },
  {
   "cell_type": "code",
   "execution_count": 6,
   "metadata": {},
   "outputs": [],
   "source": [
    "model = get_model()"
   ]
  },
  {
   "cell_type": "code",
   "execution_count": 7,
   "metadata": {},
   "outputs": [
    {
     "name": "stdout",
     "output_type": "stream",
     "text": [
      "Train on 128 samples\n",
      "128/128 [==============================] - 1s 5ms/sample - loss: 0.6599\n"
     ]
    },
    {
     "data": {
      "text/plain": [
       "<tensorflow.python.keras.callbacks.History at 0x7fa317c5ee10>"
      ]
     },
     "execution_count": 7,
     "metadata": {},
     "output_type": "execute_result"
    }
   ],
   "source": [
    "# Train the model.\n",
    "test_input = np.random.random((128, 32))\n",
    "test_target = np.random.random((128, 1))\n",
    "model.fit(test_input, test_target)"
   ]
  },
  {
   "cell_type": "code",
   "execution_count": 8,
   "metadata": {},
   "outputs": [
    {
     "name": "stdout",
     "output_type": "stream",
     "text": [
      "WARNING:tensorflow:From /Users/yuangchen/opt/anaconda3/lib/python3.7/site-packages/tensorflow_core/python/ops/resource_variable_ops.py:1781: calling BaseResourceVariable.__init__ (from tensorflow.python.ops.resource_variable_ops) with constraint is deprecated and will be removed in a future version.\n",
      "Instructions for updating:\n",
      "If using Keras pass *_constraint arguments to layers.\n",
      "INFO:tensorflow:Assets written to: /Users/yuangchen/Documents/Python/TensorFlow Core/TensorFlow Core 05 - Saved files/my_model/assets\n"
     ]
    }
   ],
   "source": [
    "# Calling model.save(.../my_model) creates a SavedModel folder \"my_model\"\n",
    "model.save(\"/Users/yuangchen/Documents/Python/TensorFlow Core/TensorFlow Core 05 - Saved files/my_model\")"
   ]
  },
  {
   "cell_type": "code",
   "execution_count": 9,
   "metadata": {},
   "outputs": [],
   "source": [
    "reconstructed_model = keras.models.load_model(\"/Users/yuangchen/Documents/Python/TensorFlow Core/TensorFlow Core 05 - Saved files/my_model\")"
   ]
  },
  {
   "cell_type": "code",
   "execution_count": 10,
   "metadata": {},
   "outputs": [],
   "source": [
    "np.testing.assert_allclose(\n",
    "    model.predict(test_input), reconstructed_model.predict(test_input)\n",
    ")"
   ]
  },
  {
   "cell_type": "code",
   "execution_count": 11,
   "metadata": {},
   "outputs": [
    {
     "name": "stdout",
     "output_type": "stream",
     "text": [
      "Train on 128 samples\n",
      "128/128 [==============================] - 0s 3ms/sample - loss: 0.5783\n"
     ]
    },
    {
     "data": {
      "text/plain": [
       "<tensorflow.python.keras.callbacks.History at 0x7fa31985b910>"
      ]
     },
     "execution_count": 11,
     "metadata": {},
     "output_type": "execute_result"
    }
   ],
   "source": [
    "# The reconstructed model is already compiled and has retained the optimizer state\n",
    "# So we can resume training\n",
    "reconstructed_model.fit(test_input, test_target)"
   ]
  },
  {
   "cell_type": "markdown",
   "metadata": {},
   "source": [
    "### What the SavedModel contains\n",
    "- Calling `model.save()` creates a folder that contains the following files."
   ]
  },
  {
   "cell_type": "code",
   "execution_count": 12,
   "metadata": {},
   "outputs": [
    {
     "name": "stdout",
     "output_type": "stream",
     "text": [
      "\u001b[34massets\u001b[m\u001b[m/         saved_model.pb  \u001b[34mvariables\u001b[m\u001b[m/\r\n"
     ]
    }
   ],
   "source": [
    "ls \"/Users/yuangchen/Documents/Python/TensorFlow Core/TensorFlow Core 05 - Saved files/my_model\""
   ]
  },
  {
   "cell_type": "markdown",
   "metadata": {},
   "source": [
    "- The model architecture, and training configuration (including the optimizer, losses, and metrics) are stored in `saved_model.pb`. \n",
    "- The weights are saved in the `variables/` directory."
   ]
  },
  {
   "cell_type": "markdown",
   "metadata": {},
   "source": [
    "## How SavedModel handles custom objects\n",
    "- When saving the model and its layers, the SavedModel format stores the class name, call function, losses, and weights (and the config, if implemented).\n",
    "    - The call function defines the computation graph of the model/layer.\n",
    "    - In the absence of the model/layer config, the call function is used to create a model that exists like the original model which can be trained, evaluated, and used for inference.\n",
    "- Nevertheless, it is always a good practice to define the `get_config` and `from_config` methods when writing a custom model or layer class. \n",
    "    - This allows you to easily update the computation later if needed. \n",
    "    - See the section about Custom objects for more information.\n",
    "- Below is an example of what happens when loading custom layers from he SavedModel format without overwriting the config methods."
   ]
  },
  {
   "cell_type": "code",
   "execution_count": 13,
   "metadata": {},
   "outputs": [],
   "source": [
    "class CustomModel(keras.Model):\n",
    "    def __init__(self, hidden_units):\n",
    "        super().__init__()\n",
    "        self.dense_layers = [keras.layers.Dense(u) for u in hidden_units]\n",
    "\n",
    "    def call(self, inputs):\n",
    "        X = inputs\n",
    "        for layer in self.dense_layers:\n",
    "            X = layer(X)\n",
    "        return X"
   ]
  },
  {
   "cell_type": "code",
   "execution_count": 14,
   "metadata": {},
   "outputs": [],
   "source": [
    "model = CustomModel([16, 16, 10])"
   ]
  },
  {
   "cell_type": "code",
   "execution_count": 15,
   "metadata": {
    "scrolled": true
   },
   "outputs": [],
   "source": [
    "# # Build the model by calling it\n",
    "# input_arr = tf.random.uniform((1, 5))\n",
    "# outputs = model(input_arr)\n",
    "# model.save(\"/Users/yuangchen/Documents/Python/TensorFlow Core/TensorFlow Core 05 - Saved files/my_model\")\n",
    "\n",
    "# del CustomModel\n",
    "\n",
    "# loaded = keras.models.load_model(\"/Users/yuangchen/Documents/Python/TensorFlow Core/TensorFlow Core 05 - Saved files/my_model\")\n",
    "# np.testing.assert_allclose(loaded(input_arr), outputs)"
   ]
  },
  {
   "cell_type": "markdown",
   "metadata": {},
   "source": [
    "## Keras H5 format\n",
    "- Keras also supports saving a HDF5 file contaning the model's architecure, weights values, and `compile()` information.\n",
    "- It is a light-weight alternative to SaveModel."
   ]
  },
  {
   "cell_type": "code",
   "execution_count": 16,
   "metadata": {},
   "outputs": [],
   "source": [
    "model = get_model()"
   ]
  },
  {
   "cell_type": "code",
   "execution_count": 17,
   "metadata": {},
   "outputs": [
    {
     "name": "stdout",
     "output_type": "stream",
     "text": [
      "Train on 128 samples\n",
      "128/128 [==============================] - 0s 2ms/sample - loss: 0.3542\n"
     ]
    },
    {
     "data": {
      "text/plain": [
       "<tensorflow.python.keras.callbacks.History at 0x7fa31a035d10>"
      ]
     },
     "execution_count": 17,
     "metadata": {},
     "output_type": "execute_result"
    }
   ],
   "source": [
    "# Train the model\n",
    "test_input = np.random.random((128, 32))\n",
    "test_target = np.random.random((128, 1))\n",
    "model.fit(test_input, test_target)"
   ]
  },
  {
   "cell_type": "code",
   "execution_count": 18,
   "metadata": {},
   "outputs": [],
   "source": [
    "# Save the model as a H5 file\n",
    "model.save(\"/Users/yuangchen/Documents/Python/TensorFlow Core/TensorFlow Core 05 - Saved files/my_h5_model.h5\")"
   ]
  },
  {
   "cell_type": "code",
   "execution_count": 19,
   "metadata": {},
   "outputs": [],
   "source": [
    "# Reconstruct the model using the H5 file\n",
    "reconstructed_model = keras.models.load_model(\"/Users/yuangchen/Documents/Python/TensorFlow Core/TensorFlow Core 05 - Saved files/my_h5_model.h5\")"
   ]
  },
  {
   "cell_type": "code",
   "execution_count": 20,
   "metadata": {},
   "outputs": [],
   "source": [
    "np.testing.assert_allclose(\n",
    "    model.predict(test_input), reconstructed_model.predict(test_input)\n",
    ")"
   ]
  },
  {
   "cell_type": "code",
   "execution_count": 21,
   "metadata": {},
   "outputs": [
    {
     "name": "stdout",
     "output_type": "stream",
     "text": [
      "Train on 128 samples\n",
      "128/128 [==============================] - 0s 1ms/sample - loss: 0.3150\n"
     ]
    },
    {
     "data": {
      "text/plain": [
       "<tensorflow.python.keras.callbacks.History at 0x7fa2fa992710>"
      ]
     },
     "execution_count": 21,
     "metadata": {},
     "output_type": "execute_result"
    }
   ],
   "source": [
    "# The reconstructed model is already compiled and has retained the optimizer state, so training can resume\n",
    "reconstructed_model.fit(test_input, test_target)"
   ]
  },
  {
   "cell_type": "markdown",
   "metadata": {},
   "source": [
    "- Compared to the SavedModel format, there are two things that don't get included in the H5 file.\n",
    "    - **External losses & metrics** added via `model.add_loss()` & `model.add_metric()` are not saved (unlike SavedModel). \n",
    "        - If you have such losses & metrics on your model and you want to resume training, you need to add these losses back yourself after loading the model. \n",
    "        - Note that this does not apply to losses/metrics created inside layers via `self.add_loss()` & `self.add_metric()`. \n",
    "        - As long as the layer gets loaded, these losses & metrics are kept, since they are part of the `call` method of the layer.\n",
    "    - The **computation graph of custom objects** such as custom layers is not included in the saved file. \n",
    "        - At loading time, Keras will need access to the Python classes/functions of these objects in order to reconstruct the model."
   ]
  },
  {
   "cell_type": "markdown",
   "metadata": {},
   "source": [
    "# Saving the architecture\n",
    "- The model's configuration (or architecture) specifies what layers the model contains, and how these layers are connected.\n",
    "    - - Note this only applies to models defined using the functional or Sequential apis not subclassed models.\n",
    "- If you have the configuration of a model, then the model can be created with a freshly initialized state for the weights and no compilation information.\n",
    "\n",
    "## Configuration of a Sequential model or Functional API model\n",
    "- These types of models are explicit graphs of layers, and their configuration is always available in a structured form.\n",
    "- APIs:\n",
    "    - **`get_config()`** and **`from_config`**\n",
    "        - Calling `config = model.get_config()` will return a Python dict containing the configuration of the model. \n",
    "        - The same model can then be reconstructed via `Sequential.from_config(config)` (for a Sequential model) or `Model.from_config(config)` (for a Functional API model).\n",
    "        - The same workflow also works for any serializable layer."
   ]
  },
  {
   "cell_type": "code",
   "execution_count": 22,
   "metadata": {},
   "outputs": [],
   "source": [
    "# Layer example\n",
    "layer = keras.layers.Dense(3, activation='relu')\n",
    "layer_config = layer.get_config()\n",
    "new_layer = keras.layers.Dense.from_config(layer_config)"
   ]
  },
  {
   "cell_type": "code",
   "execution_count": 23,
   "metadata": {},
   "outputs": [],
   "source": [
    "# Sequential model example\n",
    "model = keras.Sequential([\n",
    "    keras.Input((32,)),\n",
    "    keras.layers.Dense(1)\n",
    "])\n",
    "\n",
    "config = model.get_config()\n",
    "\n",
    "new_model = keras.Sequential.from_config(config)"
   ]
  },
  {
   "cell_type": "code",
   "execution_count": 24,
   "metadata": {},
   "outputs": [],
   "source": [
    "# Functional model example\n",
    "inputs = keras.Input((32,))\n",
    "outputs = keras.layers.Dense(1)(inputs)\n",
    "\n",
    "model = keras.Model(inputs, outputs)\n",
    "\n",
    "config = model.get_config()\n",
    "new_model = keras.Model.from_config(config)"
   ]
  },
  {
   "cell_type": "markdown",
   "metadata": {},
   "source": [
    "- APIs (cont'd)\n",
    "    - **`tf.keras.models.to_json()`** and **`tf.keras.models.model_from_json()`** are similar to `get_config()` and `from_config()`, except it turns the model into a JSON string.\n",
    "        - The JSON string can then be loaded without the original model class.\n",
    "        - It is also specific to models, not for layers."
   ]
  },
  {
   "cell_type": "code",
   "execution_count": 25,
   "metadata": {},
   "outputs": [],
   "source": [
    "model = keras.Sequential([\n",
    "    keras.Input((32,)),\n",
    "    keras.layers.Dense(1)\n",
    "])\n",
    "\n",
    "json_config = model.to_json()\n",
    "\n",
    "new_model = keras.models.model_from_json(json_config)"
   ]
  },
  {
   "cell_type": "markdown",
   "metadata": {},
   "source": [
    "## Custom objects\n",
    "### (Subclassed) Model and layers\n",
    "- The architecture of subclassed models and layers are defined in the methods `__init__` and `call`. \n",
    "    - They are considered Python bytecode, which cannot be serialized into a JSON-compatible config -- you could try serializing the bytecode (e.g. via `pickle`), but it's completely unsafe and means your model cannot be loaded on a different system.\n",
    "- In order to save/load a model with custom-defined layers, or a subclassed model, you should **overwrite the `get_config` and optionally `from_config` methods**. \n",
    "    - `get_config` should return a JSON-serializable dictionary in order to be compatible with the Keras architecture- and model-saving APIs.\n",
    "    - `from_config(config) (classmethod)` should return a new layer or model object that is created from the config. \n",
    "        - The default implementation returns `cls(**config)`."
   ]
  },
  {
   "cell_type": "code",
   "execution_count": 26,
   "metadata": {},
   "outputs": [],
   "source": [
    "class CustomLayer(keras.layers.Layer):\n",
    "    def __init__(self, a):\n",
    "        self.var = tf.Variable(a, name='var_a')\n",
    "        \n",
    "    def call(self, inputs, training=False):\n",
    "        if training:\n",
    "            return inputs * self.var\n",
    "        else:\n",
    "            return inputs\n",
    "        \n",
    "    def get_config(self):\n",
    "        return {'a': self.var.numpy()}\n",
    "    \n",
    "    # There's actually no need to define `from_config` here, since returning `cls(**config)` is the default behavior.\n",
    "    @classmethod\n",
    "    def from_config(cls, config):\n",
    "        return cls(**config)"
   ]
  },
  {
   "cell_type": "code",
   "execution_count": 27,
   "metadata": {},
   "outputs": [
    {
     "data": {
      "text/plain": [
       "<tf.Variable 'UnreadVariable' shape=() dtype=int32, numpy=2>"
      ]
     },
     "execution_count": 27,
     "metadata": {},
     "output_type": "execute_result"
    }
   ],
   "source": [
    "layer = CustomLayer(5)\n",
    "layer.var.assign(2)"
   ]
  },
  {
   "cell_type": "code",
   "execution_count": 28,
   "metadata": {},
   "outputs": [],
   "source": [
    "serialized_layer = keras.layers.serialize(layer)\n",
    "new_layer = keras.layers.deserialize(\n",
    "    serialized_layer, custom_objects={\"CustomLayer\": CustomLayer}\n",
    ")"
   ]
  },
  {
   "cell_type": "markdown",
   "metadata": {},
   "source": [
    "- Additionally, you should use **register the custom object** so that Keras is aware of it.\n",
    "    - Keras keeps a note of which class generated the config.\n",
    "    - From the example above, `tf.keras.layers.serialize` generates a serialized form of the custom layer."
   ]
  },
  {
   "cell_type": "code",
   "execution_count": 29,
   "metadata": {},
   "outputs": [
    {
     "data": {
      "text/plain": [
       "{'class_name': 'CustomLayer', 'config': {'a': 2}}"
      ]
     },
     "execution_count": 29,
     "metadata": {},
     "output_type": "execute_result"
    }
   ],
   "source": [
    "{'class_name': 'CustomLayer', 'config': {'a': 2} }"
   ]
  },
  {
   "cell_type": "markdown",
   "metadata": {},
   "source": [
    "- Keras keeps a master list of all built-in layer, model, optimizer, and metric classes, which is used to find the correct class to call `from_config`. \n",
    "    - If the class can't be found, than an error is raised (`Value Error: Unknown layer`). \n",
    "    - There are a few ways to register custom classes to this list:\n",
    "    - Setting `custom_objects` argument in the loading function. (see the example in section above \"Defining the config methods\")\n",
    "    - `tf.keras.utils.custom_object_scope` or `tf.keras.utils.CustomObjectScope`\n",
    "    - `tf.keras.utils.register_keras_serializable`"
   ]
  },
  {
   "cell_type": "markdown",
   "metadata": {},
   "source": [
    "### Custom functions\n",
    "- Custom-defined functions (e.g. activation loss or initialization) do not need a `get_config` method. \n",
    "- The function name is sufficient for loading as long as it is registered as a custom object."
   ]
  },
  {
   "cell_type": "code",
   "execution_count": 30,
   "metadata": {},
   "outputs": [],
   "source": [
    "class CustomLayer(keras.layers.Layer):\n",
    "    def __init__(self, units=32, **kwargs):\n",
    "        super().__init__(**kwargs)\n",
    "        self.units = units\n",
    "        \n",
    "    def build(self, input_shape):\n",
    "        self.w = self.add_weight(\n",
    "            shape=(input_shape[-1], self.units),\n",
    "            initializer='random_normal',\n",
    "            trainable=True \n",
    "        )\n",
    "        \n",
    "        self.b = self.add_weight(\n",
    "            shape=(self.units, ),\n",
    "            initializer='random_normal',\n",
    "            trainable=True\n",
    "        )\n",
    "        \n",
    "    def call(self, inputs):\n",
    "        return tf.matmul(inputs, self.w) + self.b\n",
    "    \n",
    "    def get_config(self):\n",
    "        config = super().get_config()\n",
    "        return {**config, \"units\": self.units}"
   ]
  },
  {
   "cell_type": "code",
   "execution_count": 31,
   "metadata": {},
   "outputs": [],
   "source": [
    "def custom_activation(X):\n",
    "    return tf.nn.tanh(X) ** 2"
   ]
  },
  {
   "cell_type": "code",
   "execution_count": 32,
   "metadata": {},
   "outputs": [],
   "source": [
    "# Make a model with the CustomLayer and custom_activation\n",
    "inputs = keras.Input((32,))\n",
    "X = CustomLayer(32)(inputs)\n",
    "outputs = keras.layers.Activation(custom_activation)(X)\n",
    "\n",
    "model = keras.Model(inputs, outputs)"
   ]
  },
  {
   "cell_type": "code",
   "execution_count": 33,
   "metadata": {},
   "outputs": [],
   "source": [
    "# Retrieve the config\n",
    "config = model.get_config()"
   ]
  },
  {
   "cell_type": "code",
   "execution_count": 34,
   "metadata": {},
   "outputs": [],
   "source": [
    "# At loading time, register the custom object with a 'custom_object_scope'\n",
    "custom_objects = {\"CustomLayer\": CustomLayer, \"custom_activation\": custom_activation}\n",
    "\n",
    "with keras.utils.custom_object_scope(custom_objects):\n",
    "    new_model = keras.Model.from_config(config)"
   ]
  },
  {
   "cell_type": "markdown",
   "metadata": {},
   "source": [
    "## In-memory model cloning\n",
    "- You can also do in-memory cloning of a model via `tf.keras.models.clone_model()`.\n",
    "- This is equivalent to geting the config then recreating the model from its config.\n",
    "    - Thus, it does not preserve compilation information or layer weights values."
   ]
  },
  {
   "cell_type": "code",
   "execution_count": 35,
   "metadata": {},
   "outputs": [],
   "source": [
    "with keras.utils.custom_object_scope(custom_objects):\n",
    "    new_model = keras.models.clone_model(model)"
   ]
  },
  {
   "cell_type": "markdown",
   "metadata": {},
   "source": [
    "# Saving & loading only the model's weights values\n",
    "- You can choose to only save & load a model's weights. \n",
    "- This can be useful if:\n",
    "    - You only need the model for **inference**: in this case you won't need to restart training, so you don't need the compilation information or optimizer state.\n",
    "    - You are doing **transfer learning**: in this case you will be training a new model reusing the state of a prior model, so you don't need the compilation information of the prior model.\n",
    "    \n",
    "## APIs for in-memory weight transfer\n",
    "- Weights can be copied between different objects by using **`get_weights`** and **`set_weights`**.\n",
    "    - `tf.keras.layers.Layer.get_weights()` returns a list of numpy arrays.\n",
    "    - `tf.keras.layers.Layer.set_weights()` sets the model weights to the values in the `weights` argument.\n",
    "- Example: Transferring weights from one model to another with a compatible architecture, in memory."
   ]
  },
  {
   "cell_type": "code",
   "execution_count": 36,
   "metadata": {},
   "outputs": [],
   "source": [
    "# Create a simple functional model\n",
    "inputs = keras.Input(shape=(784,), name='digits')\n",
    "X = keras.layers.Dense(64, activation='relu', name='dense_1')(inputs)\n",
    "X = keras.layers.Dense(64, activation='relu', name='dense_2')(X)\n",
    "outputs = keras.layers.Dense(10, name='predictions')(X)\n",
    "functional_model = keras.Model(inputs, outputs, name='3_layer_mlp')"
   ]
  },
  {
   "cell_type": "code",
   "execution_count": 37,
   "metadata": {},
   "outputs": [],
   "source": [
    "# Define a subclassed model with the same architecture\n",
    "class SubclassedModel(keras.Model):\n",
    "    def __init__(self, output_dim, name=None):\n",
    "        super().__init__(name=name)\n",
    "        self.output_dim = output_dim\n",
    "        self.dense_1 = keras.layers.Dense(64, activation=\"relu\", name=\"dense_1\")\n",
    "        self.dense_2 = keras.layers.Dense(64, activation=\"relu\", name=\"dense_2\")\n",
    "        self.dense_3 = keras.layers.Dense(output_dim, name=\"predictions\")\n",
    "        \n",
    "    def call(self, inputs):\n",
    "        X = self.dense_1(inputs)\n",
    "        X = self.dense_2(X)\n",
    "        X = self.dense_3(X)\n",
    "        return X\n",
    "    \n",
    "    def get_config(self):\n",
    "        return {\"output_dim\": self.output_dim, \"name\": self.name}"
   ]
  },
  {
   "cell_type": "code",
   "execution_count": 38,
   "metadata": {},
   "outputs": [],
   "source": [
    "subclassed_model = SubclassedModel(10)"
   ]
  },
  {
   "cell_type": "code",
   "execution_count": 39,
   "metadata": {},
   "outputs": [
    {
     "data": {
      "text/plain": [
       "<tf.Tensor: id=3450, shape=(1, 10), dtype=float32, numpy=\n",
       "array([[-2.4197953 , -0.23583509, -0.7261448 ,  0.58351696, -1.575793  ,\n",
       "         1.4143335 , -1.3235005 , -0.550333  ,  2.0375602 ,  0.85234565]],\n",
       "      dtype=float32)>"
      ]
     },
     "execution_count": 39,
     "metadata": {},
     "output_type": "execute_result"
    }
   ],
   "source": [
    "# Call the subclassed model to create the weights\n",
    "subclassed_model(tf.ones((1, 784)))"
   ]
  },
  {
   "cell_type": "code",
   "execution_count": 40,
   "metadata": {},
   "outputs": [],
   "source": [
    "# Copy weights from functional_model to subclassed_model\n",
    "subclassed_model.set_weights(functional_model.get_weights())"
   ]
  },
  {
   "cell_type": "code",
   "execution_count": 41,
   "metadata": {},
   "outputs": [],
   "source": [
    "assert len(functional_model.weights) == len(subclassed_model.weights)\n",
    "for a, b in zip(functional_model.weights, subclassed_model.weights):\n",
    "    np.testing.assert_allclose(a.numpy(), b.numpy())"
   ]
  },
  {
   "cell_type": "markdown",
   "metadata": {},
   "source": [
    "- The case of stateless layers\n",
    "    - Because stateless layers do not change the order or number of weights, models can have compatible architectures even if there are extra/missing stateless layers."
   ]
  },
  {
   "cell_type": "code",
   "execution_count": 42,
   "metadata": {},
   "outputs": [],
   "source": [
    "inputs = keras.Input(shape=(784,), name=\"digits\")\n",
    "X = keras.layers.Dense(64, activation=\"relu\", name=\"dense_1\")(inputs)\n",
    "X = keras.layers.Dense(64, activation=\"relu\", name=\"dense_2\")(X)\n",
    "outputs = keras.layers.Dense(10, name=\"predictions\")(X)\n",
    "functional_model = keras.Model(inputs=inputs, outputs=outputs, name=\"3_layer_mlp\")"
   ]
  },
  {
   "cell_type": "code",
   "execution_count": 43,
   "metadata": {},
   "outputs": [],
   "source": [
    "inputs = keras.Input(shape=(784,), name=\"digits\")\n",
    "X = keras.layers.Dense(64, activation=\"relu\", name=\"dense_1\")(inputs)\n",
    "X = keras.layers.Dense(64, activation=\"relu\", name=\"dense_2\")(X)\n",
    "\n",
    "# Add a dropout layer, which is stateless (i.e. doesn't contain any weights)\n",
    "X = keras.layers.Dropout(0.5)(X)\n",
    "outputs = keras.layers.Dense(10, name=\"predictions\")(X)\n",
    "\n",
    "functional_model_with_dropout = keras.Model(\n",
    "    inputs=inputs, outputs=outputs, name=\"3_layer_mlp\"\n",
    ")"
   ]
  },
  {
   "cell_type": "code",
   "execution_count": 44,
   "metadata": {},
   "outputs": [],
   "source": [
    "functional_model_with_dropout.set_weights(functional_model.get_weights())"
   ]
  },
  {
   "cell_type": "markdown",
   "metadata": {},
   "source": [
    "## APIs for saving weights to disk & loading them back\n",
    "- Weights can be saved to disk by calling `model.save_weights` in the following formats:\n",
    "    - TensorFlow Checkpoint\n",
    "    - HDF5\n",
    "- The default format is TensorFlow Checkpoint, and there are two ways to specify the save format:\n",
    "    - `save_format` argument: set `save_format=\"tf\"` or `save_format=\"h5\"`\n",
    "    - `path` argument: if the path ends with `.h5` or `.hdf5`, then the HDF5 format is used; otherwise, it will be saved as a TensorFlow Checkpoint.\n",
    "- More detailes available at https://www.tensorflow.org/guide/keras/save_and_serialize"
   ]
  }
 ],
 "metadata": {
  "kernelspec": {
   "display_name": "Python 3",
   "language": "python",
   "name": "python3"
  },
  "language_info": {
   "codemirror_mode": {
    "name": "ipython",
    "version": 3
   },
   "file_extension": ".py",
   "mimetype": "text/x-python",
   "name": "python",
   "nbconvert_exporter": "python",
   "pygments_lexer": "ipython3",
   "version": "3.7.6"
  }
 },
 "nbformat": 4,
 "nbformat_minor": 4
}
