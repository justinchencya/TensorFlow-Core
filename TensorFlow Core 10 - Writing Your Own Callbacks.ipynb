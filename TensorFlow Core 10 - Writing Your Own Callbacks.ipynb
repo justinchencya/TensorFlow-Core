{
 "cells": [
  {
   "cell_type": "markdown",
   "metadata": {},
   "source": [
    "# Introduction\n",
    "- A callback is a powerful tool to customize the behavior of Keras models during training, evaluation, or inference.\n",
    "    - Examples include `tf.keras.callbacks.TensorBoard` to visualize training process and results with TensorBoard, or `tf.keras.callbacks.ModelCheckpoint` to periodically save your model during training."
   ]
  },
  {
   "cell_type": "markdown",
   "metadata": {},
   "source": [
    "# Setup"
   ]
  },
  {
   "cell_type": "code",
   "execution_count": 1,
   "metadata": {},
   "outputs": [],
   "source": [
    "import tensorflow as tf\n",
    "from tensorflow import keras"
   ]
  },
  {
   "cell_type": "markdown",
   "metadata": {},
   "source": [
    "# Keras callbacks overview\n",
    "- All callbacks subclass the `keras.callbacks.Callback` class and override a set of methods called at various stages of training, testing, and predicting. \n",
    "- Callbacks are useful to get a view on internal states and statistics of the model during training.\n",
    "- You can pass a list of callbacks (as the keyword argument callbacks) to the following model methods:\n",
    "    - `keras.Model.fit()`\n",
    "    - `keras.Model.evaluate()`\n",
    "    - `keras.Model.predict()`"
   ]
  },
  {
   "cell_type": "markdown",
   "metadata": {},
   "source": [
    "# An overview of callback methods\n",
    "## Global methods\n",
    "- `on_(train|test|predict)_begin(self, logs=None)`\n",
    "    - Called at the beginning of `fit`/`evaluate`/`predict`\n",
    "- `on_(train|test|predict)_end(self, logs=None)`\n",
    "    - Called at the end of `fit`/`evaluate`/`predict`\n",
    "\n",
    "## Bacth-level methods for training/testing/predicting\n",
    "- `on_(train|test|predict)_batch_begin(self, batch, logs=None)`\n",
    "    - Called right before processing a batch during training/testing/predicting\n",
    "- `on_(train|test|predict)_end(self, logs=None)`\n",
    "    - Called at the end of training/testing/predicting a batch\n",
    "    - Within this method, `logs` is a dict containing the metrics results\n",
    "    \n",
    "## Epoch-level methods (training only)\n",
    "- `on_epoch_begin(self, epoch, logs=None)`\n",
    "    - Called at the beginning of an epoch during training\n",
    "- `on_epoch_end(self, epoch, logs=None)`\n",
    "    - Called at the end of an epoch during training"
   ]
  },
  {
   "cell_type": "markdown",
   "metadata": {},
   "source": [
    "# A basic example\n",
    "- To get started, let's import TensorFlow and define a simple Sequential model."
   ]
  },
  {
   "cell_type": "code",
   "execution_count": 2,
   "metadata": {},
   "outputs": [],
   "source": [
    "# Define the Keras model to add callbacks to\n",
    "def get_model():\n",
    "    model = keras.Sequential()\n",
    "    model.add(keras.layers.Dense(1, input_dim=784))\n",
    "    model.compile(\n",
    "        optimizer=keras.optimizers.RMSprop(learning_rate=0.1),\n",
    "        loss=\"mean_squared_error\",\n",
    "        metrics=[\"mean_absolute_error\"],\n",
    "    )\n",
    "    return model"
   ]
  },
  {
   "cell_type": "markdown",
   "metadata": {},
   "source": [
    "- Then, load the MNIST data for training and testing from Keras datasets API."
   ]
  },
  {
   "cell_type": "code",
   "execution_count": 3,
   "metadata": {},
   "outputs": [],
   "source": [
    "# Load example MNIST data and pre-process it\n",
    "(X_train, y_train), (X_test, y_test) = tf.keras.datasets.mnist.load_data()\n",
    "X_train = X_train.reshape(-1, 784).astype(\"float32\") / 255.0\n",
    "X_test = X_test.reshape(-1, 784).astype(\"float32\") / 255.0\n",
    "\n",
    "# Limit the data to 1000 samples\n",
    "X_train = X_train[:1000]\n",
    "y_train = y_train[:1000]\n",
    "X_test = X_test[:1000]\n",
    "y_test = y_test[:1000]"
   ]
  },
  {
   "cell_type": "markdown",
   "metadata": {},
   "source": [
    "- Now, define a simple custom callback that logs when:\n",
    "    - `fit`|`evaluate`|`predict` starts and ends\n",
    "    - Each epoch starts and ends\n",
    "    - Each training batch starts and ends\n",
    "    - Each evaluation (test) batch starts and ends\n",
    "    - Each inference (prediction) batch starts and ends"
   ]
  },
  {
   "cell_type": "code",
   "execution_count": 4,
   "metadata": {},
   "outputs": [],
   "source": [
    "class CustomCallback(keras.callbacks.Callback):\n",
    "    def on_train_begin(self, logs=None):\n",
    "        keys = list(logs.keys())\n",
    "        print(\"Starting training; got log keys: {}\".format(keys))\n",
    "\n",
    "    def on_train_end(self, logs=None):\n",
    "        keys = list(logs.keys())\n",
    "        print(\"Stop training; got log keys: {}\".format(keys))\n",
    "\n",
    "    def on_epoch_begin(self, epoch, logs=None):\n",
    "        keys = list(logs.keys())\n",
    "        print(\"Start epoch {} of training; got log keys: {}\".format(epoch, keys))\n",
    "\n",
    "    def on_epoch_end(self, epoch, logs=None):\n",
    "        keys = list(logs.keys())\n",
    "        print(\"End epoch {} of training; got log keys: {}\".format(epoch, keys))\n",
    "\n",
    "    def on_test_begin(self, logs=None):\n",
    "        keys = list(logs.keys())\n",
    "        print(\"Start testing; got log keys: {}\".format(keys))\n",
    "\n",
    "    def on_test_end(self, logs=None):\n",
    "        keys = list(logs.keys())\n",
    "        print(\"Stop testing; got log keys: {}\".format(keys))\n",
    "\n",
    "    def on_predict_begin(self, logs=None):\n",
    "        keys = list(logs.keys())\n",
    "        print(\"Start predicting; got log keys: {}\".format(keys))\n",
    "\n",
    "    def on_predict_end(self, logs=None):\n",
    "        keys = list(logs.keys())\n",
    "        print(\"Stop predicting; got log keys: {}\".format(keys))\n",
    "\n",
    "    def on_train_batch_begin(self, batch, logs=None):\n",
    "        keys = list(logs.keys())\n",
    "        print(\"...Training: start of batch {}; got log keys: {}\".format(batch, keys))\n",
    "\n",
    "    def on_train_batch_end(self, batch, logs=None):\n",
    "        keys = list(logs.keys())\n",
    "        print(\"...Training: end of batch {}; got log keys: {}\".format(batch, keys))\n",
    "\n",
    "    def on_test_batch_begin(self, batch, logs=None):\n",
    "        keys = list(logs.keys())\n",
    "        print(\"...Evaluating: start of batch {}; got log keys: {}\".format(batch, keys))\n",
    "\n",
    "    def on_test_batch_end(self, batch, logs=None):\n",
    "        keys = list(logs.keys())\n",
    "        print(\"...Evaluating: end of batch {}; got log keys: {}\".format(batch, keys))\n",
    "\n",
    "    def on_predict_batch_begin(self, batch, logs=None):\n",
    "        keys = list(logs.keys())\n",
    "        print(\"...Predicting: start of batch {}; got log keys: {}\".format(batch, keys))\n",
    "\n",
    "    def on_predict_batch_end(self, batch, logs=None):\n",
    "        keys = list(logs.keys())\n",
    "        print(\"...Predicting: end of batch {}; got log keys: {}\".format(batch, keys))"
   ]
  },
  {
   "cell_type": "markdown",
   "metadata": {},
   "source": [
    "- Let's try it out."
   ]
  },
  {
   "cell_type": "code",
   "execution_count": 5,
   "metadata": {},
   "outputs": [],
   "source": [
    "model = get_model()"
   ]
  },
  {
   "cell_type": "code",
   "execution_count": 6,
   "metadata": {},
   "outputs": [],
   "source": [
    "# model.fit(\n",
    "#     X_train,\n",
    "#     y_train,\n",
    "#     batch_size=128,\n",
    "#     epochs=1,\n",
    "#     verbose=0,\n",
    "#     validation_split=0.5,\n",
    "#     callbacks=[CustomCallback()]\n",
    "# )"
   ]
  },
  {
   "cell_type": "markdown",
   "metadata": {},
   "source": [
    "# Usage of `logs` dict\n",
    "- The `logs` dict contains the loss value and all the metrics at the end of a batch or epoch."
   ]
  },
  {
   "cell_type": "code",
   "execution_count": 7,
   "metadata": {},
   "outputs": [],
   "source": [
    "class LossAndErrorPrintingCallback(keras.callbacks.Callback):\n",
    "    def on_train_batch_end(self, batch, logs=None):\n",
    "        print(\"For batch {}, loss is {:7.2f}.\".format(batch, logs[\"loss\"]))\n",
    "\n",
    "    def on_test_batch_end(self, batch, logs=None):\n",
    "        print(\"For batch {}, loss is {:7.2f}.\".format(batch, logs[\"loss\"]))\n",
    "\n",
    "    def on_epoch_end(self, epoch, logs=None):\n",
    "        print(\n",
    "            \"The average loss for epoch {} is {:7.2f} \"\n",
    "            \"and mean absolute error is {:7.2f}.\".format(\n",
    "                epoch, logs[\"loss\"], logs[\"mean_absolute_error\"]\n",
    "            )\n",
    "        )"
   ]
  },
  {
   "cell_type": "code",
   "execution_count": 8,
   "metadata": {},
   "outputs": [],
   "source": [
    "model = get_model()"
   ]
  },
  {
   "cell_type": "code",
   "execution_count": 9,
   "metadata": {},
   "outputs": [
    {
     "name": "stdout",
     "output_type": "stream",
     "text": [
      "For batch 0, loss is   26.18.\n",
      "For batch 1, loss is  970.32.\n",
      "For batch 2, loss is   18.06.\n",
      "For batch 3, loss is    7.09.\n",
      "For batch 4, loss is    8.33.\n",
      "For batch 5, loss is    6.48.\n",
      "For batch 6, loss is    5.59.\n",
      "For batch 7, loss is    5.53.\n",
      "The average loss for epoch 0 is  133.96 and mean absolute error is    5.98.\n",
      "For batch 0, loss is    4.47.\n",
      "For batch 1, loss is    4.64.\n",
      "For batch 2, loss is    3.90.\n",
      "For batch 3, loss is    4.35.\n",
      "For batch 4, loss is    3.42.\n",
      "For batch 5, loss is    5.11.\n",
      "For batch 6, loss is    4.51.\n",
      "For batch 7, loss is    4.10.\n",
      "The average loss for epoch 1 is    4.32 and mean absolute error is    1.69.\n"
     ]
    },
    {
     "data": {
      "text/plain": [
       "<tensorflow.python.keras.callbacks.History at 0x7f879f0170d0>"
      ]
     },
     "execution_count": 9,
     "metadata": {},
     "output_type": "execute_result"
    }
   ],
   "source": [
    "model.fit(X_train, y_train, batch_size=128, epochs=2, verbose=0, callbacks=[LossAndErrorPrintingCallback()])"
   ]
  },
  {
   "cell_type": "markdown",
   "metadata": {},
   "source": [
    "# Usage of `self.model` attribute\n",
    "- In addition to receiving log information when one of their methods is called, callbacks have access to the model associated with the current round of training/evaluation/inference: `self.model`.\n",
    "- Here are of few of the things you can do with self.model in a callback:\n",
    "    - Set `self.model.stop_training = True` to immediately interrupt training\n",
    "    - Mutate hyperparameters of the optimizer (available as `self.model.optimizer`), such as `self.model.optimizer.learning_rate`\n",
    "    - Save the model at period intervals\n",
    "    - Record the output of `model.predict()` on a few test samples at the end of each epoch, to use as a sanity check during training\n",
    "    - Extract visualizations of intermediate features at the end of each epoch, to monitor what the model is learning over time\n",
    "    - etc."
   ]
  },
  {
   "cell_type": "markdown",
   "metadata": {},
   "source": [
    "# Example of Keras callback applications\n",
    "## Early stopping at minimum loss\n",
    "- This first example shows the creation of a Callback that stops training when the minimum of loss has been reached, by setting the attribute `self.model.stop_training (boolean)`. \n",
    "- Optionally, you can provide an argument `patience` to specify how many epochs we should wait before stopping after having reached a local minimum.\n",
    "- `tf.keras.callbacks.EarlyStopping` provides a more complete and general implementation."
   ]
  },
  {
   "cell_type": "code",
   "execution_count": 10,
   "metadata": {},
   "outputs": [],
   "source": [
    "import numpy as np"
   ]
  },
  {
   "cell_type": "code",
   "execution_count": 11,
   "metadata": {},
   "outputs": [],
   "source": [
    "class EarlyStoppingAtMinLoss(keras.callbacks.Callback):\n",
    "    # Stop training when the loss is at its minimum, i.e. the loss stops decreasing\n",
    "    \n",
    "    def __init__(self, patience=0):\n",
    "        super().__init__()\n",
    "        self.patience = patience\n",
    "        \n",
    "        # best_weights to store the weights at which the minim loss occurs\n",
    "        self.best_weights = None\n",
    "        \n",
    "    def on_train_begin(self, logs=None):\n",
    "        # The number of epoch it had waited when loss is no longer minimum\n",
    "        self.wait = 0\n",
    "        \n",
    "        # The epoch the training stops at\n",
    "        self.stopped_epoch = 0\n",
    "        \n",
    "        # Initialize the best as infinity\n",
    "        self.best = np.Inf\n",
    "        \n",
    "    def on_epoch_end(self, epoch, logs=None):\n",
    "        current = logs.get(\"loss\")\n",
    "        if np.less(current, self.best):\n",
    "            self.best = current\n",
    "            self.wait = 0\n",
    "            \n",
    "            # Record the best weight if current results is better\n",
    "            self.best_weights = self.model.get_weights()\n",
    "        else:\n",
    "            self.wait += 1\n",
    "            if self.wait >= self.patience:\n",
    "                self.stopped_epoch = epoch\n",
    "                self.model.stop_training = True\n",
    "                print(\"Restoring model weights from the end of the best epoch\")\n",
    "                self.model.set_weights(self.best_weights)\n",
    "                \n",
    "    def on_train_end(self, logs=None):\n",
    "        if self.stopped_epoch >= 0:\n",
    "            print(\"Epoch %05d: early stopping\" % (self.stopped_epoch + 1))"
   ]
  },
  {
   "cell_type": "code",
   "execution_count": 12,
   "metadata": {},
   "outputs": [
    {
     "name": "stdout",
     "output_type": "stream",
     "text": [
      "For batch 0, loss is   34.09.\n",
      "For batch 1, loss is  779.00.\n",
      "For batch 2, loss is   34.57.\n",
      "For batch 3, loss is   12.96.\n",
      "For batch 4, loss is    8.38.\n",
      "The average loss for epoch 0 is  173.80 and mean absolute error is    8.36.\n",
      "For batch 0, loss is    7.86.\n",
      "For batch 1, loss is    5.13.\n",
      "For batch 2, loss is    5.26.\n",
      "For batch 3, loss is    5.65.\n",
      "For batch 4, loss is    4.97.\n",
      "The average loss for epoch 1 is    5.77 and mean absolute error is    1.97.\n",
      "For batch 0, loss is    5.15.\n",
      "For batch 1, loss is    4.42.\n",
      "For batch 2, loss is    5.58.\n",
      "For batch 3, loss is    5.40.\n",
      "For batch 4, loss is    6.67.\n",
      "The average loss for epoch 2 is    5.44 and mean absolute error is    1.89.\n",
      "For batch 0, loss is   10.62.\n",
      "For batch 1, loss is   23.47.\n",
      "For batch 2, loss is   43.63.\n",
      "For batch 3, loss is   80.44.\n",
      "For batch 4, loss is   95.27.\n",
      "The average loss for epoch 3 is   53.93 and mean absolute error is    6.35.\n",
      "Restoring model weights from the end of the best epoch\n",
      "Epoch 00004: early stopping\n"
     ]
    },
    {
     "data": {
      "text/plain": [
       "<tensorflow.python.keras.callbacks.History at 0x7f879f409310>"
      ]
     },
     "execution_count": 12,
     "metadata": {},
     "output_type": "execute_result"
    }
   ],
   "source": [
    "model = get_model()\n",
    "model.fit(X_train, y_train, batch_size=64, steps_per_epoch=5, epochs=30, verbose=0, callbacks=[LossAndErrorPrintingCallback(), EarlyStoppingAtMinLoss()])"
   ]
  },
  {
   "cell_type": "markdown",
   "metadata": {},
   "source": [
    "## Learning rate scheduling\n",
    "- In this example, we show how a custom Callback can be used to dynamically change the learning rate of the optimizer during the course of training.\n",
    "- See `callbacks.LearningRateScheduler` for more general implementations."
   ]
  },
  {
   "cell_type": "code",
   "execution_count": 13,
   "metadata": {},
   "outputs": [],
   "source": [
    "class CustomLearningRateScheduler(keras.callbacks.Callback):\n",
    "    # Learning rate scheduler sets the learning rate according to schedule.\n",
    "    \n",
    "    def __init__(self, schedule):\n",
    "        super().__init__()\n",
    "        self.schedule = schedule\n",
    "        \n",
    "    def on_epoch_begin(self, epoch, logs=None):\n",
    "        if not hasattr(self.model.optimizer, 'lr'):\n",
    "            raise ValueError('Optimizer must have a \"lr\" attribute.')\n",
    "            \n",
    "        # Get the current learning rate from model's optimizer\n",
    "        lr = float(tf.keras.backend.get_value(self.model.optimizer.learning_rate))\n",
    "        \n",
    "        # Call schedule function to get the scheduled learning rate\n",
    "        scheduled_lr = self.schedule(epoch, lr)\n",
    "        \n",
    "        # Set the value back to the optimizer before this epoch starts\n",
    "        tf.keras.backend.set_value(self.model.optimizer.lr, scheduled_lr)\n",
    "        print(\"\\nEpoch %05d: Learning rate is %6.4f.\" % (epoch, scheduled_lr))"
   ]
  },
  {
   "cell_type": "code",
   "execution_count": 14,
   "metadata": {},
   "outputs": [],
   "source": [
    "LR_SCHEDULE = [\n",
    "    # (epoch to start, learning rate) tuples\n",
    "    (3, 0.05),\n",
    "    (6, 0.01),\n",
    "    (9, 0.005),\n",
    "    (12, 0.001)\n",
    "]"
   ]
  },
  {
   "cell_type": "code",
   "execution_count": 15,
   "metadata": {},
   "outputs": [],
   "source": [
    "def lr_schedule(epoch, lr):\n",
    "    # Helper function to retrieve the scheduled learning rate based on epoch\n",
    "    if epoch < LR_SCHEDULE[0][0] or epoch > LR_SCHEDULE[-1][0]:\n",
    "        return lr\n",
    "    \n",
    "    for i in range(len(LR_SCHEDULE)):\n",
    "        if epoch == LR_SCHEDULE[i][0]:\n",
    "            return LR_SCHEDULE[i][1]\n",
    "    return lr"
   ]
  },
  {
   "cell_type": "code",
   "execution_count": 16,
   "metadata": {},
   "outputs": [
    {
     "name": "stdout",
     "output_type": "stream",
     "text": [
      "\n",
      "Epoch 00000: Learning rate is 0.1000.\n",
      "For batch 0, loss is   22.86.\n",
      "For batch 1, loss is  936.21.\n",
      "For batch 2, loss is   27.80.\n",
      "For batch 3, loss is   10.42.\n",
      "For batch 4, loss is    5.87.\n",
      "The average loss for epoch 0 is  200.63 and mean absolute error is    8.34.\n",
      "\n",
      "Epoch 00001: Learning rate is 0.1000.\n",
      "For batch 0, loss is    7.46.\n",
      "For batch 1, loss is    5.55.\n",
      "For batch 2, loss is    7.00.\n",
      "For batch 3, loss is    4.31.\n",
      "For batch 4, loss is    5.58.\n",
      "The average loss for epoch 1 is    5.98 and mean absolute error is    2.00.\n",
      "\n",
      "Epoch 00002: Learning rate is 0.1000.\n",
      "For batch 0, loss is    4.82.\n",
      "For batch 1, loss is    3.56.\n",
      "For batch 2, loss is    5.08.\n",
      "For batch 3, loss is    3.56.\n",
      "For batch 4, loss is    4.61.\n",
      "The average loss for epoch 2 is    4.33 and mean absolute error is    1.66.\n",
      "\n",
      "Epoch 00003: Learning rate is 0.0500.\n",
      "For batch 0, loss is    4.41.\n",
      "For batch 1, loss is    4.06.\n",
      "For batch 2, loss is    4.39.\n",
      "For batch 3, loss is    3.71.\n",
      "For batch 4, loss is    3.32.\n",
      "The average loss for epoch 3 is    3.94 and mean absolute error is    1.56.\n",
      "\n",
      "Epoch 00004: Learning rate is 0.0500.\n",
      "For batch 0, loss is    4.35.\n",
      "For batch 1, loss is    3.78.\n",
      "For batch 2, loss is    3.92.\n",
      "For batch 3, loss is    3.38.\n",
      "For batch 4, loss is    3.95.\n",
      "The average loss for epoch 4 is    3.87 and mean absolute error is    1.57.\n",
      "\n",
      "Epoch 00005: Learning rate is 0.0500.\n",
      "For batch 0, loss is    3.45.\n",
      "For batch 1, loss is    5.33.\n",
      "For batch 2, loss is    5.87.\n",
      "For batch 3, loss is    4.48.\n",
      "For batch 4, loss is    3.94.\n",
      "The average loss for epoch 5 is    4.61 and mean absolute error is    1.71.\n",
      "\n",
      "Epoch 00006: Learning rate is 0.0100.\n",
      "For batch 0, loss is    4.66.\n",
      "For batch 1, loss is    5.99.\n",
      "For batch 2, loss is    3.27.\n",
      "For batch 3, loss is    2.55.\n",
      "For batch 4, loss is    3.52.\n",
      "The average loss for epoch 6 is    3.84 and mean absolute error is    1.52.\n",
      "\n",
      "Epoch 00007: Learning rate is 0.0100.\n",
      "For batch 0, loss is    3.72.\n",
      "For batch 1, loss is    4.35.\n",
      "For batch 2, loss is    3.63.\n",
      "For batch 3, loss is    3.06.\n",
      "For batch 4, loss is    4.19.\n",
      "The average loss for epoch 7 is    3.79 and mean absolute error is    1.54.\n",
      "\n",
      "Epoch 00008: Learning rate is 0.0100.\n",
      "For batch 0, loss is    3.18.\n",
      "For batch 1, loss is    4.97.\n",
      "For batch 2, loss is    3.10.\n",
      "For batch 3, loss is    4.24.\n",
      "For batch 4, loss is    2.46.\n",
      "The average loss for epoch 8 is    3.59 and mean absolute error is    1.47.\n",
      "\n",
      "Epoch 00009: Learning rate is 0.0050.\n",
      "For batch 0, loss is    4.52.\n",
      "For batch 1, loss is    2.36.\n",
      "For batch 2, loss is    1.36.\n",
      "For batch 3, loss is    3.19.\n",
      "For batch 4, loss is    3.66.\n",
      "The average loss for epoch 9 is    3.15 and mean absolute error is    1.36.\n",
      "\n",
      "Epoch 00010: Learning rate is 0.0050.\n",
      "For batch 0, loss is    3.29.\n",
      "For batch 1, loss is    3.63.\n",
      "For batch 2, loss is    2.76.\n",
      "For batch 3, loss is    2.72.\n",
      "For batch 4, loss is    3.52.\n",
      "The average loss for epoch 10 is    3.19 and mean absolute error is    1.40.\n",
      "\n",
      "Epoch 00011: Learning rate is 0.0050.\n",
      "For batch 0, loss is    2.76.\n",
      "For batch 1, loss is    2.43.\n",
      "For batch 2, loss is    3.36.\n",
      "For batch 3, loss is    3.95.\n",
      "For batch 4, loss is    3.27.\n",
      "The average loss for epoch 11 is    3.15 and mean absolute error is    1.40.\n",
      "\n",
      "Epoch 00012: Learning rate is 0.0010.\n",
      "For batch 0, loss is    4.31.\n",
      "For batch 1, loss is    3.39.\n",
      "For batch 2, loss is    3.83.\n",
      "For batch 3, loss is    2.30.\n",
      "For batch 4, loss is    3.42.\n",
      "The average loss for epoch 12 is    3.54 and mean absolute error is    1.43.\n",
      "\n",
      "Epoch 00013: Learning rate is 0.0010.\n",
      "For batch 0, loss is    2.96.\n",
      "For batch 1, loss is    2.07.\n",
      "For batch 2, loss is    3.31.\n",
      "For batch 3, loss is    2.88.\n",
      "For batch 4, loss is    2.45.\n",
      "The average loss for epoch 13 is    2.73 and mean absolute error is    1.32.\n",
      "\n",
      "Epoch 00014: Learning rate is 0.0010.\n",
      "For batch 0, loss is    3.75.\n",
      "For batch 1, loss is    2.77.\n",
      "For batch 2, loss is    3.72.\n",
      "For batch 3, loss is    2.90.\n",
      "For batch 4, loss is    4.39.\n",
      "The average loss for epoch 14 is    3.51 and mean absolute error is    1.43.\n"
     ]
    },
    {
     "data": {
      "text/plain": [
       "<tensorflow.python.keras.callbacks.History at 0x7f87a0113910>"
      ]
     },
     "execution_count": 16,
     "metadata": {},
     "output_type": "execute_result"
    }
   ],
   "source": [
    "model = get_model()\n",
    "\n",
    "model.fit(X_train, y_train, batch_size=64, steps_per_epoch=5, epochs=15, verbose=0, callbacks=[LossAndErrorPrintingCallback(), CustomLearningRateScheduler(lr_schedule)])"
   ]
  },
  {
   "cell_type": "markdown",
   "metadata": {},
   "source": [
    "# Built-in Keras callbacks\n",
    "- Be sure to check out the existing Keras callbacks by reading the API docs.\n",
    "- Applications include logging to CSV, saving the model, visualizing metrics in TensorBoard, and a lot more!"
   ]
  }
 ],
 "metadata": {
  "kernelspec": {
   "display_name": "Python 3",
   "language": "python",
   "name": "python3"
  },
  "language_info": {
   "codemirror_mode": {
    "name": "ipython",
    "version": 3
   },
   "file_extension": ".py",
   "mimetype": "text/x-python",
   "name": "python",
   "nbconvert_exporter": "python",
   "pygments_lexer": "ipython3",
   "version": "3.7.6"
  }
 },
 "nbformat": 4,
 "nbformat_minor": 4
}
